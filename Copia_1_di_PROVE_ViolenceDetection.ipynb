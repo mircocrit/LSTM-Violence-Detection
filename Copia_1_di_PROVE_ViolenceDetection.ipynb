{
  "nbformat": 4,
  "nbformat_minor": 0,
  "metadata": {
    "accelerator": "GPU",
    "colab": {
      "name": "Copia_1_di_PROVE_ViolenceDetection.ipynb",
      "provenance": [],
      "collapsed_sections": []
    },
    "kernelspec": {
      "display_name": "Python 3",
      "name": "python3"
    }
  },
  "cells": [
    {
      "cell_type": "markdown",
      "metadata": {
        "id": "esPqye6MMEs4"
      },
      "source": [
        "# **VIOLENCE DETECTION V1.0**"
      ]
    },
    {
      "cell_type": "markdown",
      "metadata": {
        "id": "GTT2x9YGnY9T"
      },
      "source": [
        "----------------------------------------------------------------\n",
        "# **CONNECTION** (google drive)"
      ]
    },
    {
      "cell_type": "code",
      "metadata": {
        "colab": {
          "base_uri": "https://localhost:8080/"
        },
        "id": "QYIPv6fOmomh",
        "outputId": "51908ad0-5632-434c-d562-0ffa6ccfb4a5"
      },
      "source": [
        "from google.colab import drive\n",
        "drive.mount('/gdrive')\n",
        "%cd /gdrive/My Drive\n",
        "!ls"
      ],
      "execution_count": null,
      "outputs": [
        {
          "output_type": "stream",
          "text": [
            "Mounted at /gdrive\n",
            "/gdrive/My Drive\n",
            " Cartoni\t    data   images\t   results\t results_datasets.csv\n",
            "'Colab Notebooks'   Film   registrazioni   results.csv\t'Serie TV'\n"
          ],
          "name": "stdout"
        }
      ]
    },
    {
      "cell_type": "markdown",
      "metadata": {
        "id": "3-idtdsGKbYO"
      },
      "source": [
        "# **DATA PREPROCESSING**\n",
        "As a **preparation** for the **graph input** few steps were taken in the dataset preparation\n",
        "- initially the **videos** were **sampled** to a frame by **frame sequence** as we were limited with computational power. \n",
        "- The videos were sampled into a **fix number** of **frames** before given as an input to the model. \n",
        "\n",
        "- For all dataset combination of **augmentation methods** were used and for some of the datasets, **dark edges** were **removed** from the frame as we present in Figure 3.\n",
        "- As the original article stated, the **input** to the model is a **subtraction** of **adjacent frames**, this was done in order to include a **spatial movements** in the input videos instead of the raw pixels from each frame. \n",
        "- In Figure 2 we present and example of difference computation of adjacent frames where an hockey player pushes another player.\n",
        "\n",
        "-To enrich and **enlarge** the **dataset** we apply **data augmentation** with the following\n",
        "**transformations** on the frames:\n",
        "  - **Image cropping**: a **slicing** of the **image**, done each time with a **different** anchor **corner** was chosen (Figure 4) .\n",
        "  - **Image transpose**: as a complement steps to the cropping process, a transpose was done, this **step** was done during the **fit generator process** (Figure 5)"
      ]
    },
    {
      "cell_type": "markdown",
      "metadata": {
        "id": "RefAlxwLdlrp"
      },
      "source": [
        "**SAVE_FIGURES_FROM_VIDEO** (required for CREATE DATASET)"
      ]
    },
    {
      "cell_type": "code",
      "metadata": {
        "id": "UvFG8rxIoS_1"
      },
      "source": [
        "import os\n",
        "import cv2\n",
        "\n",
        "def save_figures_from_video(dataset_video_path, video_filename, suffix,figures_path,skip_frames = 25,apply_norm = True, apply_diff = True,fix_len = None):\n",
        "    seq_len = 0\n",
        "\n",
        "    video_figures_path = os.path.join(figures_path ,video_filename)\n",
        "    if not os.path.exists(video_figures_path):\n",
        "        os.makedirs(video_figures_path)\n",
        "\n",
        "    video_file = os.path.join(dataset_video_path, video_filename + suffix)\n",
        "    label = 0\n",
        "    #print('Extracting frames from video: ', video_file)\n",
        "    print('.', end='')\n",
        "\n",
        "    videoCapture = cv2.VideoCapture(video_file)\n",
        "    if fix_len is not None:\n",
        "        vid_len = int(videoCapture.get(cv2.CAP_PROP_FRAME_COUNT))\n",
        "        skip_frames = int(float(vid_len)/float(fix_len))\n",
        "    videoCapture.set(cv2.CAP_PROP_POS_MSEC, (seq_len * skip_frames))\n",
        "    success, figure_ = videoCapture.read()\n",
        "    success = True\n",
        "    files = []\n",
        "    while success:\n",
        "        success, figure = videoCapture.read()\n",
        "\n",
        "        if seq_len % skip_frames == 0:\n",
        "            if success:\n",
        "                figure_curr = figure\n",
        "                image_file = os.path.join(video_figures_path , \"frame_%d.jpg\" % seq_len)\n",
        "                files.append(image_file)\n",
        "                cv2.imwrite(image_file, figure_curr)\n",
        "        seq_len += 1\n",
        "    video_images = dict(images_path = video_figures_path, name = video_filename,\n",
        "                        images_files = files, sequence_length = seq_len, label = label)\n",
        "\n",
        "    return video_images\n"
      ],
      "execution_count": null,
      "outputs": []
    },
    {
      "cell_type": "code",
      "metadata": {
        "colab": {
          "base_uri": "https://localhost:8080/"
        },
        "id": "XuABj-PO5FNZ",
        "outputId": "99d92b22-f3eb-410b-b067-9c5fbb7c09a2"
      },
      "source": [
        "import pickle\n",
        "\n",
        "datasets_videos = dict(\n",
        "    hocky = dict(hocky=\"data/raw_videos/HockeyFights\"),\n",
        "    violentflow = dict(violentflow=\"data/raw_videos/violentflow\"),\n",
        "    movies = dict(movies=\"data/raw_videos/movies\")\n",
        ")\n",
        "\n",
        "#for dataset_name, dataset_videos in datasets_videos.items():\n",
        "dataset_name = \"violentflow\"                          #         \"movies\"  \"violentflow\"   \"hocky\"\n",
        "dataset_videos = datasets_videos.get(\"violentflow\")   #         \"movies\"  \"violentflow\"   \"hocky\"\n",
        "print(dataset_name, dataset_videos)\n",
        "\n",
        "force=False           #True to force rebuilding dataset\n",
        "videos_seq_length = []\n",
        "datasets_images = {}\n",
        "videos_frames_paths = []\n",
        "videos_labels = []\n",
        "datasets_video_path = dataset_videos\n",
        "figure_output_path = \"data/raw_frames\"\n",
        "\n",
        "#Extract images for each video for the dataset\n",
        "for dataset_name, dataset_video_path in datasets_video_path.items():\n",
        "    dataset_figures_path = os.path.join(figure_output_path,dataset_name)\n",
        "    if not os.path.exists(dataset_figures_path):\n",
        "        os.makedirs(dataset_figures_path)\n",
        "    dataset_images = []\n",
        "    \n",
        "    for filename in os.listdir(dataset_video_path):\n",
        "        if filename.endswith(\".avi\") or filename.endswith(\".mpg\"):\n",
        "            video_images_file = os.path.join(dataset_figures_path,filename[:-4], 'video_summary.pkl')\n",
        "            if os.path.isfile(video_images_file) and not force:\n",
        "                with open(video_images_file, 'rb') as f:\n",
        "                    video_images = pickle.load(f)               #load dump of frames already decomposed\n",
        "            else:\n",
        "                video_images = save_figures_from_video(dataset_video_path, filename[:-4],filename[-4:], dataset_figures_path, fix_len = 20)\n",
        "                if dataset_name == \"hocky\":\n",
        "                    if filename.startswith(\"fi\"):\n",
        "                        video_images['label'] = 1\n",
        "                elif dataset_name == \"violentflow\":\n",
        "                    if \"violence\" in filename:\n",
        "                        video_images['label'] = 1\n",
        "                elif dataset_name == \"movies\":\n",
        "                    if \"fi\" in filename:\n",
        "                        video_images['label'] = 1\n",
        "                with open(video_images_file, 'wb') as f:\n",
        "                    pickle.dump(video_images, f, pickle.HIGHEST_PROTOCOL)\n",
        "            dataset_images.append(video_images)\n",
        "            videos_seq_length.append(video_images['sequence_length'])\n",
        "            videos_frames_paths.append(video_images['images_path'])\n",
        "            videos_labels.append(video_images['label'])\n",
        "    datasets_images[dataset_name] = dataset_images\n",
        "avg_length = int(float(sum(videos_seq_length)) / max(len(videos_seq_length), 1))\n",
        "\n",
        "#print(videos_seq_length)\n",
        "print(videos_frames_paths)\n",
        "print(videos_labels)"
      ],
      "execution_count": null,
      "outputs": [
        {
          "output_type": "stream",
          "text": [
            "violentflow {'violentflow': 'data/raw_videos/violentflow'}\n",
            "['data/raw_frames/violentflow/balcony_football_violence__Brannik_Football_Violence__Nattevandring__ysW-tGv-YjI', 'data/raw_frames/violentflow/balcony_football_violence__British_Football_Hooligans_Mix_3__MorningGlory1997__kW23lUV6oFk', 'data/raw_frames/violentflow/crowd_violence__Man_Utd_vs_Roma_Crowd_Trouble__uncychris__ZGI5vlDMpJA', 'data/raw_frames/violentflow/crowd_violence__Roma_V_Man_Utd_Police_beating_crowd__Beck84Utd__jwtg8AkcAfc', 'data/raw_frames/violentflow/fans_violence__BRANNIK_Football_Violence_CSKA__Arpecua__gew9Ks_9VRU', 'data/raw_frames/violentflow/fans_violence__Fans_Fighting_Roma_vs_Man_Utd__teafor22__oYikreK6ng4', 'data/raw_frames/violentflow/fans_violence__Roma_vs_Man_United_Police_violence_DANISH_TV__7Anotnac7__gIfgEwL', 'data/raw_frames/violentflow/fans_violence__Slovak_chauvinism_nationalism_extremism_intolerance_and_all_form', 'data/raw_frames/violentflow/fans_violence__THE_BEST_HOOLIGANS_Los_hinchas_ultras_barra_torcida_fans_fanatic', 'data/raw_frames/violentflow/fans_violence__Violence_in_Soccer_Stadiums_The_Hooligan_Syndrome__evanese1__-x2', 'data/raw_frames/violentflow/football_violence__football_violence__Brannik_Football_Violence__Elbsturm1488__7NyYlQX-tiI', 'data/raw_frames/violentflow/football_violence__Football_Hooligans_Man_City_v_Man_United_1989__lancashirelads__r', 'data/raw_frames/violentflow/football_violence__Football_Hooligans_Russia_v_England_News_Report__prestonparasocc', 'data/raw_frames/violentflow/football_violence__FUCK_YOU_FOOTBALL_HOOLIGANS_FRENZY_PART1_SCOTLAND__W00FAM__Yy73o', 'data/raw_frames/violentflow/football_violence__FUCK_YOU_FOOTBALL_HOOLIGANS_RUSSIA_and_UKRAINE_part1__W00FAM__DB', 'data/raw_frames/violentflow/football_violence__HOOLIGANS__mscs01__YWE3lKNm8aA', 'data/raw_frames/violentflow/football_violence__Roma_vs_Man_United_Police_violence_DANISH_TV__7Anotnac7__gIfgEwL', 'data/raw_frames/violentflow/football_violence__Violence_and_fascism_in_Ukrainian_football__soroktri43__eG8qryFn', 'data/raw_frames/violentflow/group_violence__group_violence__football_violence__aliiie__qfKD35PYwok', 'data/raw_frames/violentflow/Hooligans_violence__Hooligans_violence__BRANNIK_football_violence__KD666999__YTqe4xf5o6U', 'data/raw_frames/violentflow/Hooligans_violence__Croatia_Hooligans__EXB04__JQrSRtqoU_I', 'data/raw_frames/violentflow/Hooligans_violence__FENERBAHCE_ULTRAS_VS_COPS_VIOLENCE_RIOT__2maxpower1453__e7Bv5fTB', 'data/raw_frames/violentflow/Hooligans_violence__Footballs_Blood_Sport_prt2__Tramppercy__P9a6qZ3r90k', 'data/raw_frames/violentflow/Hooligans_violence__Football_Hooligans_Carlisle_v_Preston_1993__prestonparasoccer__J', 'data/raw_frames/violentflow/Hooligans_violence__FOOTBALL_HOOLIGANS_WEST_HAM_v_MILLWALL_AUGUST_2009_LONGER_VERSIO', 'data/raw_frames/violentflow/Hooligans_violence__Fuck_police_Let_s_riot__tigerland2222__Q2k-ZHCZBAk', 'data/raw_frames/violentflow/Hooligans_violence__I_D_Trailer__ImLonelyLinda__5Y26VMm4L7o', 'data/raw_frames/violentflow/Hooligans_violence__The_Best_Fans_in_the_World_Part_4_Hooligans__crvenobeli__3mXS25x', 'data/raw_frames/violentflow/Hooligans_violence__Torcida_do_Flamengo_x_PM_na_Final_da_Copa_do_Brasil__craigrj__kK', 'data/raw_frames/violentflow/soccer_violence__FENERBAHCE_ULTRAS_VS_COPS_VIOLENCE_RIOT__2maxpower1453__e7Bv5fTB', 'data/raw_frames/violentflow/soccer_violence__Football_Hooligans_Preston_North_End_Mix__prestonparasoccer__qwr', 'data/raw_frames/violentflow/soccer_violence__Football_riots__madlu__OpgL3ZlF-gg', 'data/raw_frames/violentflow/soccer_violence__FOOTBALL_WARS__negronera18__JRyQYbq9Zr4', 'data/raw_frames/violentflow/soccer_violence__hu_hu_hu_hooligans__misom0000__w_p6cBeTHkg', 'data/raw_frames/violentflow/soccer_violence__HOOLIGANS__mscs01__YWE3lKNm8aA', 'data/raw_frames/violentflow/soccer_violence__SCC_gets_owned_by_real_football_fans__JayFCAK47__32N5pojPfV8', 'data/raw_frames/violentflow/stadium_violence__stadium_violence__Barras_Argentinas__alebb77__en5llVbjq20', 'data/raw_frames/violentflow/stadium_violence__Panathinaikos_Olympiakos_96_97_riots__GWF13__xW_LC_siwQo', 'data/raw_frames/violentflow/stadium_violence__soccer_riot_compilation__qqcolaman__URwiZLZipeg', 'data/raw_frames/violentflow/football_crowds__2008_Penn_State_Football_Crowd_Pump_Up_Video__rmcmillen50__rQB1R', 'data/raw_frames/violentflow/football_crowds__Anglia_News_Sport_Soccer_Football_FIFA_South_Africa_World_Cup_2010_The_Vuvuzela__anglianewseast__3JrtWmyk-Do', 'data/raw_frames/violentflow/football_crowds__ASB_SHOW_HOMECOMING_VIDEO_2010__deweesbrofilms__RUAVfS2OyX0', 'data/raw_frames/violentflow/football_crowds__Both_crowds_Boca_vs_Internacionale__HansieC__ramrVUP0W0k', 'data/raw_frames/violentflow/football_crowds__Brazilian_Football__WELLBRAN__kKRw-i7pukY', 'data/raw_frames/violentflow/football_crowds__Brisbane_Lions_vs_Melbourne_Demons_The_Gabba__StudyinBrisbane__Y', 'data/raw_frames/violentflow/football_crowds__Egypt_2_0_Algeria_World_Cup_2010__Azariful__joItnDgUGUc', 'data/raw_frames/violentflow/football_crowds__football_crowds__Anglia_News_Sport_Soccer_Football_FIFA_South_Africa_World_Cup_20', 'data/raw_frames/violentflow/football_crowds__FIFA_World_Cup_The_Warriors_and_Magicians__SuperUdink__I2kOH7p48', 'data/raw_frames/violentflow/football_crowds__F_A_Cup_Final_2010_Clips_Lifestyle_Video__JPettsProductions__Kvt', 'data/raw_frames/violentflow/football_crowds__Giants_of_Brazil_6_of_6__anandaliyanage__lq-GBA34iEI', 'data/raw_frames/violentflow/football_crowds__Giants_of_Brazil_5_of_6__anandaliyanage__5tw2pojykz8', 'data/raw_frames/violentflow/football_crowds__HARRY_KEWELL_SCORES_CROWD_GO_NUTS__phillipstama__K7qlpU7tMhQ', 'data/raw_frames/violentflow/football_crowds__Inside_the_Iowa_Spirit_Squads__uimediaproduction__V365Mro2t88', 'data/raw_frames/violentflow/football_crowds__Love_for_the_local_game__NTVKenya__52tfgLRJ2TA', 'data/raw_frames/violentflow/football_crowds__Love_is_in_the_air_DUFC_cup_final_Hampden_2010__tattoosyke__Afp7', 'data/raw_frames/violentflow/football_crowds__Maracana_Football_Crowd_Atmosphere__thetravelmap__xfi3rvFKIPU', 'data/raw_frames/violentflow/football_crowds__MaximsNewsNetwork_SUDAN_ELECTIONS_YASIR_ARMAN_OMAR_AL_BASHIR_UNM', 'data/raw_frames/violentflow/football_crowds__Massena_Central_High_School_Hall_Of_Fame_Football_Game_2009__joh', 'data/raw_frames/violentflow/football_crowds__Nepal_U16_versus_Tajikistan_U16__ampr1150gs__xcn-9PxjnIE', 'data/raw_frames/violentflow/football_crowds__New_Mexico_Men_s_Soccer_Crowd_Atmosphere__menslobosoccer__us9aHz', 'data/raw_frames/violentflow/football_crowds__Poldi_Odonkor_und_Asamoah_singen_in_Berlin__indra1974__4TkcO2r0q', 'data/raw_frames/violentflow/football_crowds__rangers_v_celtic__Milneadona__OOWpL4wKIAA', 'data/raw_frames/violentflow/football_crowds__Spain_World_Cup_team_receives_hero_s_welcome__timesofearth__Pz3z', 'data/raw_frames/violentflow/football_crowds__USC_Football_Team_arriving_at_Lincoln_stadium_2007__jmsotojr__um', 'data/raw_frames/violentflow/football_crowds__Wrest_Point_Tassie_Devils_coming_off_the_field_in_their_final_ma', 'data/raw_frames/violentflow/stadium_crowds__2008_Penn_State_Football_Crowd_Pump_Up_Video__rmcmillen50__rQB1R', 'data/raw_frames/violentflow/stadium_crowds__2010_Probowl__SuperBowlWayne64__5aG92ySPbag', 'data/raw_frames/violentflow/stadium_crowds__50000_people_in_a_stadium__simoncharlesspencerg__fLKom2IbDlg', 'data/raw_frames/violentflow/stadium_crowds__Azan_el_Maghrib_to_calm_the_crowds_in_Cairo_stadium_Egypt_14_nov', 'data/raw_frames/violentflow/stadium_crowds__Bands_talk_about_their_influences_from_Punk_s_Not_Dead__PNDmovie', 'data/raw_frames/violentflow/stadium_crowds__Barnsley_FC_V_Swansea_City_FC_League_1_Play_off_Final_2006__stua', 'data/raw_frames/violentflow/stadium_crowds__bohemka_viktorka_I__averlaagen__FDu-Q6Q5OVk', 'data/raw_frames/violentflow/stadium_crowds__Bowman_Gray_New_Tourist_Destination__WXIItv__FIdbB90Dr2o', 'data/raw_frames/violentflow/stadium_crowds__Brisbane_Lions_vs_Melbourne_Demons_The_Gabba__StudyinBrisbane__Y', 'data/raw_frames/violentflow/stadium_crowds__BullDOgs_SoNG_aNd_VidEO_REMixed_NRL_CHAMPIONS_remix_of_BLue_WhiT', 'data/raw_frames/violentflow/stadium_crowds__Crowd_Footage__ADTom43__PbQywcwkxDM', 'data/raw_frames/violentflow/stadium_crowds__Did_Lady_GaGa_throw_a_tantrum__unknownsince1983__0Vkz-_rVYB8', 'data/raw_frames/violentflow/stadium_crowds__FBR_Open_16th_Hole_Highlights__TheFBROpen__zJHVTcnGzcI', 'data/raw_frames/violentflow/stadium_crowds__Egypt_2_0_Algeria_World_Cup_2010__Azariful__joItnDgUGUc', 'data/raw_frames/violentflow/stadium_crowds__FIFA_World_Cup_The_Warriors_and_Magicians__SuperUdink__I2kOH7p48', 'data/raw_frames/violentflow/stadium_crowds__Feel_the_buzz_of_Croke_Park__DiscoverGAA__bCYSflQwc7o', 'data/raw_frames/violentflow/stadium_crowds__Fulltime_at_Scottish_Cup_Final_Hampden_2010__tattoosyke__7JhKy66', 'data/raw_frames/violentflow/stadium_crowds__Inside_the_Iowa_Spirit_Squads__uimediaproduction__V365Mro2t88', 'data/raw_frames/violentflow/stadium_crowds__HARRY_KEWELL_SCORES_CROWD_GO_NUTS__phillipstama__K7qlpU7tMhQ', 'data/raw_frames/violentflow/stadium_crowds__Jump_Around_at_the_Camp_Randall_Outdoor_Hockey_Classic__ernste40', 'data/raw_frames/violentflow/stadium_crowds__Iranian_Revolution_10th_Year_Anniversary__hijazna__PFZsW8I-GVY', 'data/raw_frames/violentflow/stadium_crowds__Life_in_a_Day_Cheering_in_a_crowd_of_44_000__TheMariaMcD__EnR2uY', 'data/raw_frames/violentflow/stadium_crowds__Maracana_Football_Crowd_Atmosphere__thetravelmap__xfi3rvFKIPU', 'data/raw_frames/violentflow/stadium_crowds__MASSIVE_mexican_Wave_at_state_of_origin_game_2_2010__MELfunkshun', 'data/raw_frames/violentflow/stadium_crowds__Match_Day_at_the_Stadium__loVedruggedz__Fgjj8OjcnWU', 'data/raw_frames/violentflow/stadium_crowds__MaximsNewsNetwork_ITALY_SPORT_SECURITY_UN__MaximsNewsNetwork__C-', 'data/raw_frames/violentflow/stadium_crowds__Mexican_Wave_at_Cape_Town_Stadium__mallix2000__oyESuDC-dl0', 'data/raw_frames/violentflow/stadium_crowds__Police_drill_for_2010__CNN__0LP012X0yiA', 'data/raw_frames/violentflow/stadium_crowds__Outside_Yankee_Stadium_Following_World_Series_Win_vs_Phillies_11', 'data/raw_frames/violentflow/stadium_crowds__Rutgers_tackles_traffic__tvjersey__j623HU58M8U', 'data/raw_frames/violentflow/stadium_crowds__Stadium_Footage__ADTom43__AQdZ2OTF7VA', 'data/raw_frames/violentflow/stadium_crowds__Tokyo_Yakult_Swallows_Home_Run_Celebration__wackycamper32__cX9ln', 'data/raw_frames/violentflow/stadium_crowds__USC_Football_Team_arriving_at_Lincoln_stadium_2007__jmsotojr__um', 'data/raw_frames/violentflow/stadium_crowds__Wales_Wonderful_Rugby_Win_1922__BFIfilms__Mb89swT_V3M', 'data/raw_frames/violentflow/stadium_crowds__Yankee_Stadium_wave_5_2_08__NYlightning__g_CJ1A636kg', 'data/raw_frames/violentflow/peaceful_football_crowds__MaximsNewsNetwork_SUDAN_ELECTIONS_YASIR_ARMAN_OMAR_AL_BASHIR_UNM', 'data/raw_frames/violentflow/football_crowds_cheering__9697_stadium_crowds__oddballfilmvideo__4onlltf20tE', 'data/raw_frames/violentflow/football_crowds_cheering__Alabama_Ole_Miss_08_Rammer_Jammer__jaydubya10__mviEzH28NiE', 'data/raw_frames/violentflow/football_crowds_cheering__Alabama_vs_San_Jose_State__marlincaddell__RqdBKczKyA4', 'data/raw_frames/violentflow/football_crowds_cheering__Andres_Iniesta_Standing_Ovations__allas11__WKv7pmjgDeg', 'data/raw_frames/violentflow/football_crowds_cheering__Arkansas_vs_ULM_September_11_2010_Woo_Pig_Sooie__jayd243__RfMRWT', 'data/raw_frames/violentflow/football_crowds_cheering__Australia_vs_Ghana__cubicspacedivision__hy9sgs_Rzbg', 'data/raw_frames/violentflow/football_crowds_cheering__Brisbane_Lions_v_Carlton_Blues_The_Gabba_5_Sept_2009__jacktion19', 'data/raw_frames/violentflow/football_crowds_cheering__Buddy_kicks_100_goals_Hawthorn_vs_Carlton__Greaperman__BlUgh2qDj', 'data/raw_frames/violentflow/football_crowds_cheering__Cal_Beats_Stanford_Big_Game_2002_short_low_res_version__belmonto', 'data/raw_frames/violentflow/football_crowds_cheering__Chang_Rai_United_Football_Match__goldfly___aTVnHfqClA', 'data/raw_frames/violentflow/football_crowds_cheering__Cheering_EAHS_JV_Win__GoAlvarezEagles__Ya-N2JawEyc', 'data/raw_frames/violentflow/football_crowds_cheering__Cheering_in_the_dawg_pack_as_game_gets_under_way__hometownkid__p', 'data/raw_frames/violentflow/football_crowds_cheering__Cheering_the_Nod__DjOky__iwrZ7iOfXAA', 'data/raw_frames/violentflow/football_crowds_cheering__Cougar_Football__montanhaf100__tZMx6fr49H0', 'data/raw_frames/violentflow/football_crowds_cheering__Crystal_cheering_on_the_Angels__jayskilove__NpCBQfC7TSc', 'data/raw_frames/violentflow/football_crowds_cheering__Day_254_of_2010_Washington_Huskies_First_Half__shinystuffff__H3x', 'data/raw_frames/violentflow/football_crowds_cheering__Drill_Team_cheering_2_9_24_09__GHSClassOf09__qX4tQ1OHw3c', 'data/raw_frames/violentflow/football_crowds_cheering__FIFA_2010_USA_v_ENG_Dupont_Cirlce_Washington_DC__icallmyselfbria', 'data/raw_frames/violentflow/football_crowds_cheering__football_game__banonit123__m5pMOoPH21w', 'data/raw_frames/violentflow/football_crowds_cheering__Ghana_stars_in_heroes_reception__NTVKenya__RXQA-gagvKI', 'data/raw_frames/violentflow/football_crowds_cheering__Goldfellas_GT_vs_Maryland_1999_Crowd_Shot__tonyanddanielleoliva__xiCWDdaUSbg', 'data/raw_frames/violentflow/football_crowds_cheering__Hajduk_Split_vs_Dinamo_Zagreb_28_May_2009_Croatia_Cup_Final__jay', 'data/raw_frames/violentflow/football_crowds_cheering__Hamburg_Fan_Party_Opening_Match_World_Cup_2006__Dee162__6ROznW9c', 'data/raw_frames/violentflow/football_crowds_cheering__Human_LCD_Close_Up_Video_SOUTH_KOREA__rnqhdtnr__7Jgkm2pdWgY', 'data/raw_frames/violentflow/football_crowds_cheering__Inside_the_Iowa_Spirit_Squads__uimediaproduction__V365Mro2t88', 'data/raw_frames/violentflow/football_crowds_cheering__IU_Football_travels_to_Michigan__wtiu__GkRsT40daQ0', 'data/raw_frames/violentflow/football_crowds_cheering__I_O_W_A__temery16__EDS_jct18FA', 'data/raw_frames/violentflow/football_crowds_cheering__Jacksonville_Jaguar_Promo__joshlee1090__jIoVPOVXuww', 'data/raw_frames/violentflow/football_crowds_cheering__Jaguars_vs_Broncos_in_HD__misspfaff__LPM8ONCnh2g', 'data/raw_frames/violentflow/football_crowds_cheering__Jon_and_JJ_The_Elder_Crowd__jonandjj__NCFv0XMyvUk', 'data/raw_frames/violentflow/football_crowds_cheering__Kickoff_in_Camp_Randall__spt414__bEZahnaRpmQ', 'data/raw_frames/violentflow/football_crowds_cheering__K_State_fans_chant_WE_OWN_TEXAS__rockCHOKE21__YVr3IdD6rpY', 'data/raw_frames/violentflow/football_crowds_cheering__larson_is_welcomed_to_OT__mc4566__sBVBkxmK3VY', 'data/raw_frames/violentflow/football_crowds_cheering__LIVE_SQUAD_Morgan_State_University_Band_Pep_Club__DShock17__2x96', 'data/raw_frames/violentflow/football_crowds_cheering__LSU_Game_Day__LSU__dyxtnGpQ3lg', 'data/raw_frames/violentflow/football_crowds_cheering__MAN_DROPS_BEER_STATE_OF_ORIGIN_2009__afhb2512__rLoVsCv00Ao', 'data/raw_frames/violentflow/football_crowds_cheering__mu_beats_ku_victory_celebration__brennanhobart__q7ANQ6HCRIU', 'data/raw_frames/violentflow/football_crowds_cheering__New_Mexico_Men_s_Soccer_Crowd_Atmosphere__menslobosoccer__us9aHz', 'data/raw_frames/violentflow/football_crowds_cheering__Oregon_Ducks_vs_USC_Trojans_10_31_09__thatssnorthwest__9f0fI4-sF', 'data/raw_frames/violentflow/football_crowds_cheering__Penn_State_Crowd__mam1042__-yp5n8JJ-zA', 'data/raw_frames/violentflow/football_crowds_cheering__rowdy_crowd_at_Football_game__andyisalive__RWnAoJdeXsE', 'data/raw_frames/violentflow/football_crowds_cheering__Sandy_Creek_High_School_Football__cartmanspeedzone__jpX-DHradPo', 'data/raw_frames/violentflow/football_crowds_cheering__Scenes_from_Friday_s_ESPN_College_Game_Day_at_UK__UKSGREAT__dXA5', 'data/raw_frames/violentflow/football_crowds_cheering__Spartans_What_Is_Your_Profession_Chant__PaulWaLL4EvR__KeWNYvvINZ', 'data/raw_frames/violentflow/football_crowds_cheering__Sunderland_Goal_against_Wigan__adamfearman__yXSc-kCWBjY', 'data/raw_frames/violentflow/football_crowds_cheering__Tallest_Cup_Stack_in_Football_Fan_History__break__ofi003Eec_E', 'data/raw_frames/violentflow/football_crowds_cheering__TCU_Fans_Cheer_The_Biggest_Crowd_In_TCU_History_at_Amon_Carter_S', 'data/raw_frames/violentflow/football_crowds_cheering__The_Crowd__Rosiercentral__aqIzMGff5ak', 'data/raw_frames/violentflow/football_crowds_cheering__The_Greatest_Game_of_the_Year__MarcelloMussarela__lmJVKXUQPJA', 'data/raw_frames/violentflow/football_crowds_cheering__The_Ohio_State_University_Cheer__DEXTERTEEOHIO__FM9Jcpixqz0', 'data/raw_frames/violentflow/football_crowds_cheering__The_Wave_at_The_Big_Game__contron__DBQaM3PVLqA', 'data/raw_frames/violentflow/football_crowds_cheering__Totally_Stupid_Footballers_Series_1_Episode_5_An_Ending_With_A_H', 'data/raw_frames/violentflow/football_crowds_cheering__UF_Cheering_style__Playersgod__RaBmHs4MdLo', 'data/raw_frames/violentflow/football_crowds_cheering__Vanier_Cup_2009_Queen_s_Gaels_vs_Calgary_Dinos_HD__Treps___J5TDF', 'data/raw_frames/violentflow/football_crowds_cheering__Varsity_Football_Cardinal_O_Hara_vs_Roman_Catholic__Varsity365__', 'data/raw_frames/violentflow/football_crowds_cheering__Varsity_Football_Conestoga_at_Ridley__Varsity365__wR3tNpXRcYg', 'data/raw_frames/violentflow/football_crowds_cheering__Welcome_Home_ACC_Champions_part_A__jamesllvt__UGurBSFE8Es', 'data/raw_frames/violentflow/football_crowds_cheering__World_Cup_2010_Korea_vs_Uruguay_Han_River_Seoul_Korea_Ties_Game_', 'data/raw_frames/violentflow/football_crowds_cheering__World_Cup_2010_Korea_vs_Uruguay_Han_River_Seoul_Pre_game__vivach', 'data/raw_frames/violentflow/balcony_football__birmingham_promoted_to_premier_from_balcony_town_hall__clippo67_', 'data/raw_frames/violentflow/balcony_football__Seoul_vs_Dae_Gu_Futbol_Roman_Candles__JOECORE__bbpgvaM2sxs', 'data/raw_frames/violentflow/football_fans__FootBall_Fans_Violence__xxxXLsDXxxx__EaCpQJLdxJ8', 'data/raw_frames/violentflow/football_fans__Football_Hooligans__ELGmedia__7by8qY2C258', 'data/raw_frames/violentflow/football_fans__World_football_compilation_ultras_players_hooligans_emotions__ex', 'data/raw_frames/violentflow/crowd_violence__Crowd_Violence_Control_techniques__mackevster__wkva5YERsRg', 'data/raw_frames/violentflow/crowd_violence__FooTBaLL_Violence__dyster8__iN4kiCHg2S4', 'data/raw_frames/violentflow/crowd_violence__Rostock_Anti_G8_Demo_Police_Violence__erikaransom__f185olt6W4I', 'data/raw_frames/violentflow/crowd_violence__Violence_At_Upton_Park_25_08_09__JunaidNixamani__MgXe0isUnSg', 'data/raw_frames/violentflow/audience_violence__Riot_police_attack_peaceful_protesters_at_G20_Climate_Camp__bristlekrs__t244-zEENSs', 'data/raw_frames/violentflow/balcony_football_violence__British_Football_Hooligans_Mix_1__MorningGlory1997__pn6CNLi3UhA', 'data/raw_frames/violentflow/balcony_football_violence__Football_Hooligans_Bury_v_Stockport_1998__MorningGlory1997__g6p_k37oWws', 'data/raw_frames/violentflow/balcony_football_violence__Football_Hooligans_Leeds_v_Wolves_2005__MorningGlory1997__f66MTrNLPL0', 'data/raw_frames/violentflow/balcony_football_violence__Football_Hooligans_Oxford_Utd_v_Aston_Villa_2002__MorningGlory1997__bWY8AQIFYXM', 'data/raw_frames/violentflow/balcony_football_violence__Football_Hooligans_Watford_v_Luton_2002_Version_1__MorningGlory1997__vLOTaR9eMlg', 'data/raw_frames/violentflow/balcony_football_violence__Football_Hooligans_Watford_v_Luton_2002_Version_2__MorningGlory1997__1XbY1Sr2Obw', 'data/raw_frames/violentflow/balcony_football_violence__Football_Violence_Gais_AIK_2005__spliffpolitics__e4xiTNkfN0U', 'data/raw_frames/violentflow/fans_violence__Accidents_Fights_Violence_Tragedies_Hooligans_Football_Fights_HORRIBLE_THINGS__darkhero00__PgujG07PUq0', 'data/raw_frames/violentflow/fans_violence__English_Hooligans_vs_Turkey_Ultras__Vandal83__J8S2-pGz8ao', 'data/raw_frames/violentflow/fans_violence__FootBall_Fans_Violence__xxxXLsDXxxx__EaCpQJLdxJ8', 'data/raw_frames/violentflow/fans_violence__Football_Hooligans_Preston_North_End_Mix__prestonparasoccer__qwrOc8xmlpY', 'data/raw_frames/violentflow/fans_violence__Football_Hooligans_Watford_v_Luton_2002_Version_1__MorningGlory1997__vLOTaR9eMlg', 'data/raw_frames/violentflow/fans_violence__Football_Violence_From_England_And_Netherlands__spliffpolitics__anRuF6MBO-s', 'data/raw_frames/violentflow/fans_violence__F_GHT_S_MORE_MPORTANT_THAN_FOOTBALL_sometimes__shevchenko776__9a616Ppoeak', 'data/raw_frames/violentflow/fans_violence__Hardcore_Supporter_Fight_Extreme_Violence_Final_Four_Volley_Praha__javierulf__jzmiAbjN6Mw', 'data/raw_frames/violentflow/fans_violence__Hockey_Fights_and_Fan_Brawls__dsnitris2007__XinJCGR7u6w', 'data/raw_frames/violentflow/fans_violence__Hooligans_violence_in_stadiums_PART_1__yuossef5959__PPIP1AYJyXE', 'data/raw_frames/violentflow/fans_violence__IRAKLIS_FANS_OUTLAW__RESISTANCE1908__15XLSFN7mFs', 'data/raw_frames/violentflow/fans_violence__Marseille_World_Cup_fans_riot__tizwaz35__I9sUIDRjpoo', 'data/raw_frames/violentflow/fans_violence__Tigers_Yob_Violence_Hull_Daily_Mail__AllMail__J_znZ1TJugw', 'data/raw_frames/violentflow/fans_violence__Vanilla_Muffins_Chelsea_West_Ham_A_Look_At_Football_Violence__TheSicSociety__Qx0W0-0dDFQ', 'data/raw_frames/violentflow/fans_violence__Violence_after_bball_game__shlomipr__WSFdO3em2I8', 'data/raw_frames/violentflow/football_violence__Accidents_Fights_Violence_Tragedies_Hooligans_Football_Fights_HORRIBLE_THINGS__darkhero00__PgujG07PUq0', 'data/raw_frames/violentflow/football_violence__ardcore_hooligans__bigmunro60__9tkj8gtIoNM', 'data/raw_frames/violentflow/football_violence__A_Town_Called_Football_by_Nil_Satis__louderthanyourface__Ptvoh4L_FxY', 'data/raw_frames/violentflow/football_violence__baseball_hockey_football_soccer_violence__Zetrom69__aQ5nh4xRak0', 'data/raw_frames/violentflow/football_violence__British_Football_Hooligans_Mix_3__MorningGlory1997__kW23lUV6oFk', 'data/raw_frames/violentflow/football_violence__Brutal_fight_of_the_hooligans_in_Europe_Switzerland__CocaineBaron__VmPNqxBRRIQ', 'data/raw_frames/violentflow/football_violence__Brutal_fight_of_the_hooligans_in_Europe__CocaineBaron__ctbwtUZfhY4', 'data/raw_frames/violentflow/football_violence__Danish_Hooligans_Exclusive_video__MosquitoTheRapist__t9IYNex9Nn4', 'data/raw_frames/violentflow/football_violence__English_Football_Hooligans_Euro_2000__MorningGlory1997__6xAQGS0fodE', 'data/raw_frames/violentflow/football_violence__english_football_hooligans__ohnoherewego1234__ydTykaGO-Dg', 'data/raw_frames/violentflow/football_violence__English_Hooligans__JohnLaw__Wob3r1Leamw', 'data/raw_frames/violentflow/football_violence__Footballs_Blood_Sport_prt_1__Tramppercy__WSCF2iLuRyk', 'data/raw_frames/violentflow/football_violence__Football_Factory_PV_by_Daryl_T_Fave_Films_Clips__LogicBomb777__vnwttRPHdnw', 'data/raw_frames/violentflow/football_violence__Football_Hooligans_Cardiff_v_Barnsley_2003__MorningGlory1997__mSS7490HcJI', 'data/raw_frames/violentflow/football_violence__Football_Hooligans_Carlisle_v_Preston_1993__prestonparasoccer__JfLHSqKm9zg', 'data/raw_frames/violentflow/football_violence__Football_hooligans_fighting_in_Helsinki_WCQL_Finland_Russia__f43344__n3yajhkWI6w', 'data/raw_frames/violentflow/football_violence__Football_Hooligans_Finland_v_Russia_World_Cup_Qualifier_June_2009__lancashirelads__SmxsnplMtb8', 'data/raw_frames/violentflow/football_violence__Football_Hooligans_Germany_v_Poland_Euro_2008__MorningGlory1997__gtaGluIXEaU', 'data/raw_frames/violentflow/football_violence__Football_Hooligans_Hull_Pub_Brawl_News_Report__lancashirelads__--3xfJHXlOc', 'data/raw_frames/violentflow/football_violence__Football_Hooligans_Leeds_v_Wolves_2005__MorningGlory1997__f66MTrNLPL0', 'data/raw_frames/violentflow/football_violence__Football_Hooligans_Manchester_City_v_Manchester_United_1989__foothool__ISt-Ir7bb3Y', 'data/raw_frames/violentflow/football_violence__Football_Hooligans_Millwall_Compilation__MorningGlory1997__U-CsDQik3sw', 'data/raw_frames/violentflow/football_violence__Football_Hooligans_Preston_North_End_Mix__prestonparasoccer__qwrOc8xmlpY', 'data/raw_frames/violentflow/football_violence__Football_Hooligans_QPR_v_Luton_St_Pancras__prestonparasoccer__DNL6VlA3hnQ', 'data/raw_frames/violentflow/football_violence__Football_hooligans_Watford_Luton_2002__MrSmasherlad__ClZOLHYj_7Y', 'data/raw_frames/violentflow/football_violence__Football_Hooligans_Watford_v_Luton_2002_Version_1__MorningGlory1997__vLOTaR9eMlg', 'data/raw_frames/violentflow/football_violence__football_match_violence__mld0491__WL6AUKgOYSs', 'data/raw_frames/violentflow/football_violence__Football_Soccer_Hooligans_Movie_Scenes__mclarenfan04__KHP6fQdrFlE', 'data/raw_frames/violentflow/football_violence__Football_violence_3__reklamomand__SjUBX5K5QRo', 'data/raw_frames/violentflow/football_violence__Football_Violence_Gais_AIK_2005__spliffpolitics__e4xiTNkfN0U', 'data/raw_frames/violentflow/football_violence__Football_violence__lamufle__ucUm3sb39Cs', 'data/raw_frames/violentflow/football_violence__Hooligans_no_talk_just_fights_docu_part_04__haagsejef23__GcP3SiwkmGo', 'data/raw_frames/violentflow/football_violence__Hooligans_no_talk_just_fights_docu_part_09__haagsejef23__kRlCAD-3H40', 'data/raw_frames/violentflow/football_violence__Polish_Hooligans__tigardojaja__YLSsmo2Glyk', 'data/raw_frames/violentflow/football_violence__project_d_football_violence__henkiejwt__MFDeI2bK2Pk', 'data/raw_frames/violentflow/Hooligans_violence__5x5_russian_hooligans_fight__Parkhom__GnfpwW6sMkc', 'data/raw_frames/violentflow/Hooligans_violence__Accidents_Fights_Violence_Tragedies_Hooligans_Football_Fights_HORRIBLE_THINGS__darkhero00__PgujG07PUq0', 'data/raw_frames/violentflow/Hooligans_violence__ACHTUNG_skinheads_hooligans__WHITENGEL1488__H2xnId9vOo0', 'data/raw_frames/violentflow/Hooligans_violence__Football_Hooligans_Finland_v_Russia_World_Cup_Qualifier_June_2009__lancashirelads__SmxsnplMtb8', 'data/raw_frames/violentflow/Hooligans_violence__English_Hooligans__JohnLaw__Wob3r1Leamw', 'data/raw_frames/violentflow/Hooligans_violence__Football_Hooligans_Germany_v_Poland_Euro_2008__MorningGlory1997__gtaGluIXEaU', 'data/raw_frames/violentflow/Hooligans_violence__Football_Hooligans_Hull_Pub_Brawl_News_Report__lancashirelads__--3xfJHXlOc', 'data/raw_frames/violentflow/Hooligans_violence__Football_Hooligans_Preston_V_Bradford_2003__eliteborg__NLtW_TzoQm4', 'data/raw_frames/violentflow/Hooligans_violence__Football_hooligans_Reading_Swansea_1993__MrSmasherlad__9I7MpDQc82k', 'data/raw_frames/violentflow/Hooligans_violence__Football_Hooligans_QPR_v_Luton_St_Pancras__prestonparasoccer__DNL6VlA3hnQ', 'data/raw_frames/violentflow/Hooligans_violence__FUCK_YOU_FOOTBALL_HOOLIGANS_RUSSIA_and_UKRAINE_part1__W00FAM__DB9PSdrfulE', 'data/raw_frames/violentflow/Hooligans_violence__Hooligans_Untold_Story_Part_2__UltrasHooligansFilms__BXBtZwzv3EI', 'data/raw_frames/violentflow/Hooligans_violence__Hooligans_war_in_Russian_vk__artemorlik__6UNj6fEgz8U', 'data/raw_frames/violentflow/Hooligans_violence__Koudlam_See_you_All__panrecord__nFWgiZxnz7o', 'data/raw_frames/violentflow/Hooligans_violence__Polish_Hooligans__tigardojaja__YLSsmo2Glyk', 'data/raw_frames/violentflow/Hooligans_violence__Russian_Hooligans_Zenit_St_Petersburg__LordXavior__iMjISeT72vQ', 'data/raw_frames/violentflow/soccer_violence__Chinese_kungfu_soccer__crazyzibe__Gsrc7AXC_kI', 'data/raw_frames/violentflow/soccer_violence__Soccer_Hooligans_Clash_Unbelievable_Rumble__OrionEdWood__8DCP_E_J8A0', 'data/raw_frames/violentflow/soccer_violence__MORTAL_SOCCER_Part_2__sha3booola__H6iKYprpB30']\n",
            "[1, 1, 1, 1, 1, 1, 1, 1, 1, 1, 1, 1, 1, 1, 1, 1, 1, 1, 1, 1, 1, 1, 1, 1, 1, 1, 1, 1, 1, 1, 1, 1, 1, 1, 1, 1, 1, 1, 1, 0, 0, 0, 0, 0, 0, 0, 0, 0, 0, 0, 0, 0, 0, 0, 0, 0, 0, 0, 0, 0, 0, 0, 0, 0, 0, 0, 0, 0, 0, 0, 0, 0, 0, 0, 0, 0, 0, 0, 0, 0, 0, 0, 0, 0, 0, 0, 0, 0, 0, 0, 0, 0, 0, 0, 0, 0, 0, 0, 0, 0, 0, 0, 0, 0, 0, 0, 0, 0, 0, 0, 0, 0, 0, 0, 0, 0, 0, 0, 0, 0, 0, 0, 0, 0, 0, 0, 0, 0, 0, 0, 0, 0, 0, 0, 0, 0, 0, 0, 0, 0, 0, 0, 0, 0, 0, 0, 0, 0, 0, 0, 0, 0, 0, 0, 0, 0, 0, 0, 0, 0, 0, 0, 0, 0, 0, 1, 1, 1, 1, 1, 1, 1, 1, 1, 1, 1, 1, 1, 1, 1, 1, 1, 1, 1, 1, 1, 1, 1, 1, 1, 1, 1, 1, 1, 1, 1, 1, 1, 1, 1, 1, 1, 1, 1, 1, 1, 1, 1, 1, 1, 1, 1, 1, 1, 1, 1, 1, 1, 1, 1, 1, 1, 1, 1, 1, 1, 1, 1, 1, 1, 1, 1, 1, 1, 1, 1, 1, 1, 1, 1, 1, 1, 1, 1, 1, 1]\n"
          ],
          "name": "stdout"
        }
      ]
    },
    {
      "cell_type": "markdown",
      "metadata": {
        "id": "QdOnJUZVQ6Ga"
      },
      "source": [
        "# **Train / Test Split**"
      ]
    },
    {
      "cell_type": "code",
      "metadata": {
        "colab": {
          "base_uri": "https://localhost:8080/"
        },
        "id": "FEo2N_RVQLwi",
        "outputId": "4d7c7a42-4f6c-4394-c2f5-43cb16ac3abd"
      },
      "source": [
        "from sklearn.model_selection import train_test_split\n",
        "#split up our data into a  training and test set\n",
        "train_path, test_path, train_y, test_y =  train_test_split(videos_frames_paths,videos_labels, test_size=0.20, random_state=42)\n",
        "\n",
        "# if apply_aug:\n",
        "#     aug_paths = []\n",
        "#     aug_y = []\n",
        "#     for train_path_, train_y_ in zip(train_path,train_y):\n",
        "#\n",
        "#         aug_path = generate_augmentations(train_path_,force = False)\n",
        "#         aug_paths.append(aug_path)\n",
        "#         aug_y.append(train_y_)\n",
        "#\n",
        "#     train_path = train_path + aug_paths\n",
        "#     train_y = train_y + aug_y\n",
        "\n",
        "train_path, valid_path, train_y, valid_y = train_test_split(train_path, train_y, test_size=0.20, random_state=42)\n",
        "print(\"Dataset splitted\")"
      ],
      "execution_count": null,
      "outputs": [
        {
          "output_type": "stream",
          "text": [
            "Dataset splitted\n"
          ],
          "name": "stdout"
        }
      ]
    },
    {
      "cell_type": "markdown",
      "metadata": {
        "id": "b6kpF54nhgLj"
      },
      "source": [
        "----------------------------------------------------------------------------\n",
        "# **GET SEQUENCES:** \n",
        "it makes sequence of adjacent images\n",
        "\n",
        "Requires:\n",
        "- FRAME_LOADER\n",
        "- CROP_IMG_REMOVE_DARK: removes black border background from image\n",
        "- CROP_IMG: cuts the image to a random side (Center, left up, left down, right up, right down)\n"
      ]
    },
    {
      "cell_type": "code",
      "metadata": {
        "id": "v6Aa7XdEhcNY"
      },
      "source": [
        "import numpy as np\n",
        "from keras.preprocessing.image import load_img, img_to_array\n",
        "from keras.preprocessing import image\n",
        "import random\n",
        "corner_keys = [\"Center\",\"Left_up\",\"Left_down\",\"Right_up\",\"Right_down\"]\n",
        "\n",
        "def frame_loader(frames,figure_shape,to_norm = True):\n",
        "    output_frames = []\n",
        "    for frame in frames:\n",
        "        image = load_img(frame, target_size=(figure_shape, figure_shape),interpolation='bilinear')\n",
        "        img_arr = img_to_array(image)\n",
        "        # Scale\n",
        "        figure = (img_arr / 255.).astype(np.float32)\n",
        "        # Normalize\n",
        "        mean = [0.485, 0.456, 0.406]\n",
        "        std = [0.229, 0.224, 0.225]\n",
        "        figure = (figure - mean) / std\n",
        "        output_frames.append(figure)\n",
        "    return output_frames\n",
        "\n",
        "\n",
        "def crop_img__remove_Dark(img, x_crop,y_crop, x,y, figure_size):\n",
        "    x_start = x_crop\n",
        "    x_end = x-x_crop\n",
        "    y_start = y_crop\n",
        "    y_end = y-y_crop\n",
        "    return cv2.resize(img[y_start:y_end,x_start:x_end,:],(figure_size,figure_size))\n",
        "\n",
        "\n",
        "def crop_img(img, figure_shape, percentage=0.8, corner=\"Left_up\"):\n",
        "    if (corner == None):\n",
        "        corner = random.choice(corner_keys)\n",
        "    if corner not in corner_keys:\n",
        "        raise ValueError('Invalid corner method {} specified. Supported corners are {}'.format(corner, \", \".join(corner_keys)))\n",
        "\n",
        "    resize = int(figure_shape*percentage)\n",
        "\n",
        "    if (corner ==\"Left_up\"):\n",
        "        x_start = 0\n",
        "        x_end = resize\n",
        "        y_start = 0\n",
        "        y_end = resize\n",
        "    if (corner == \"Right_down\"):\n",
        "        x_start = figure_shape-resize\n",
        "        x_end = figure_shape\n",
        "        y_start = figure_shape-resize\n",
        "        y_end = figure_shape\n",
        "    if (corner ==\"Right_up\"):\n",
        "        x_start = 0\n",
        "        x_end = resize\n",
        "        y_start = figure_shape-resize\n",
        "        y_end = figure_shape\n",
        "    if (corner == \"Left_down\"):\n",
        "        x_start = figure_shape-resize\n",
        "        x_end = figure_shape\n",
        "        y_start = 0\n",
        "        y_end = resize\n",
        "    if (corner == \"Center\"):\n",
        "        half = int(figure_shape*(1-percentage))\n",
        "        x_start = half\n",
        "        x_end = figure_shape-half\n",
        "        y_start = half\n",
        "        y_end = figure_shape-half\n",
        "\n",
        "    img = cv2.resize(img[y_start:y_end,x_start:x_end, :], (figure_shape, figure_shape)).astype(np.float32)\n",
        "    return img\n"
      ],
      "execution_count": null,
      "outputs": []
    },
    {
      "cell_type": "code",
      "metadata": {
        "id": "u8Vpeh0Fn-Wk"
      },
      "source": [
        "from keras.preprocessing.sequence import pad_sequences\n",
        "from keras.utils import to_categorical\n",
        "import scipy\n",
        "import glob\n",
        "Debug_Print_AUG=True     # True to save augmented images\n",
        "\n",
        "def get_sequences(data_paths, labels, figure_shape, seq_length, classes=1, use_augmentation = False, use_crop=True, crop_x_y=None):\n",
        "    X, y = [], []\n",
        "    seq_len = 0\n",
        "    for data_path, label in zip(data_paths,labels):\n",
        "        frames = sorted(glob.glob(os.path.join(data_path, '*jpg')))\n",
        "        x = frame_loader(frames, figure_shape)\n",
        "\n",
        "        if (crop_x_y):                                                            #remove dark from background\n",
        "            x = [crop_img__remove_Dark(x_,crop_x_y[0],crop_x_y[1],x_.shape[0],x_.shape[1],figure_shape) for x_ in x]\n",
        "        \n",
        "        if use_augmentation:                                                      #data augmentation\n",
        "            rand = scipy.random.random()\n",
        "            corner=\"\"\n",
        "            if rand > 0.5:\n",
        "                if (use_crop):\n",
        "                    corner= random.choice(corner_keys)\n",
        "                    x = [crop_img(x_,figure_shape, 0.7, corner) for x_ in x]        #crop random corner of an image\n",
        "                x = [frame.transpose(1, 0, 2) for frame in x]                     #transpose \n",
        "\n",
        "                if (Debug_Print_AUG):                                             #to save augm. image on disk\n",
        "                    to_write = [list(a) for a in zip(frames, x)]\n",
        "                    [cv2.imwrite(x_[0] + \"_\" + corner, x_[1] * 255) for x_ in to_write]\n",
        "\n",
        "        x = [x[i] - x[i+1] for i in range(len(x)-1)]                              #subtraction of adjacent frames\n",
        "        X.append(x)\n",
        "        y.append(label)\n",
        "    X = pad_sequences(X, maxlen=seq_length, padding='pre', truncating='pre')\n",
        "    \n",
        "    if classes > 1:                        #only for categorical crossentropy\n",
        "        x_ = to_categorical(x_,classes)\n",
        "    return np.array(X), np.array(y)\n"
      ],
      "execution_count": null,
      "outputs": []
    },
    {
      "cell_type": "markdown",
      "metadata": {
        "id": "-Fkod9PtewBy"
      },
      "source": [
        "# **DATA GENERATOR** \n",
        "- requires GET SEQUENCES\n",
        "\n",
        "Data generators allow to feed the model with large data, with the yield that returns part of the data gradually."
      ]
    },
    {
      "cell_type": "code",
      "metadata": {
        "id": "0eFe062khBr6"
      },
      "source": [
        "from numpy.random import shuffle\n",
        "def data_generator(data_paths, labels, batch_size, figure_shape, seq_length, use_aug, use_crop, crop_x_y, classes = 1):\n",
        "    while True:\n",
        "        indexes = np.arange(len(data_paths))\n",
        "        np.random.shuffle(indexes)\n",
        "        select_indexes = indexes[:batch_size]\n",
        "        data_paths_batch = [data_paths[i] for i in select_indexes]\n",
        "        labels_batch = [labels[i] for i in select_indexes]\n",
        "\n",
        "        X, y = get_sequences(data_paths_batch, labels_batch, figure_shape, seq_length, classes, use_augmentation = use_aug, use_crop=use_crop, crop_x_y=crop_x_y)\n",
        "\n",
        "        yield X, y"
      ],
      "execution_count": null,
      "outputs": []
    },
    {
      "cell_type": "code",
      "metadata": {
        "colab": {
          "base_uri": "https://localhost:8080/"
        },
        "id": "u4hkgqu3Qfpf",
        "outputId": "602807bf-d27f-476c-bed5-847b78c0ad78"
      },
      "source": [
        "crop_dark = dict(\n",
        "    hocky = (11, 38),\n",
        "    violentflow = None,\n",
        "    movies = None\n",
        ")\n",
        "\n",
        "crop_x_y = None\n",
        "if (crop_dark):   #None\n",
        "    crop_x_y = crop_dark[dataset_name]\n",
        "\n",
        "batch_size = 2                  #16\n",
        "len_train, len_valid = len(train_path), len(valid_path)       #fig size #fix len    #False\n",
        "print(len_train, len_valid, len(test_path))\n",
        "\n",
        "train_gen =    data_generator(train_path, train_y, batch_size, 244, 20, use_aug=True,  use_crop=True,  crop_x_y=crop_x_y, classes=1)\n",
        "validate_gen = data_generator(valid_path, valid_y, batch_size, 244, 20, use_aug=False, use_crop=False, crop_x_y=crop_x_y, classes=1)\n",
        "\n",
        "test_x, test_y = get_sequences(test_path, test_y, 244, 20, crop_x_y=crop_x_y, classes=1)\n"
      ],
      "execution_count": null,
      "outputs": [
        {
          "output_type": "stream",
          "text": [
            "156 40 50\n"
          ],
          "name": "stdout"
        }
      ]
    },
    {
      "cell_type": "markdown",
      "metadata": {
        "id": "ZJT47wWL5yu7"
      },
      "source": [
        "# **ARCHITECTURE**\n",
        "We describe the **architecture** build upon four type of layers, \n",
        "- The **first** is the **input layer** that receive a sequence of 10 frames that are a computed difference of two adjacent frames from the original video.\n",
        "\n",
        "- The **second** type of **layers** belongs to a **Resnet50 CNN network** that aim to classify images, the initial weights of the layers are taken form a pre-trained model on **image-net**, the CNN process each frame separately and during training the weights of the network are shared. \n",
        "\n",
        "- The **third layer** is the **Convolution LSTM (ConvLSTM)** where each frame from the CNN enters into a **ConvLSTM** cell with an hidden state of **256 convolution filters** of **size 3**. \n",
        "\n",
        "- The **forth** type of **layers** process the ConvLSTM and **output** the **binary prediction**, a **Max pooling layer** of **size 2** reduces the data and chooses the most informational pixels, then the data is **batch normalized** and connected to a series of **fully connected layer** of sizes **1000, 256, 10** and finally a **binary output perception** with a **sigmoid activation function**. \n",
        "- **Between** each of the **fully connected layers** we use** RELU activation**.\n",
        "\n",
        "- We use **binary cross entropy** as our **loss function** and **RMSprop** as an **optimizer**, **20%** of the data is select for **validation** and rest **80%** is selected to **train**. \n",
        "\n",
        "- The **learning rate** of the network **starts** with value of **0.0001** and is **reduced** by **half** **after 5 epochs** of **no improvement** in the **validation loss**. \n",
        "\n",
        "- We train the model with **50 epochs** but also use **early stopping** in case where the **network validation loss haven't improve for 15 epochs.**"
      ]
    },
    {
      "cell_type": "markdown",
      "metadata": {
        "id": "ZnCSPzD5w4Jh"
      },
      "source": [
        "model fit: # the network is trained on data generatores and apply the callacks when the validation loss is not improving:\n",
        "- 1) early stop to training after n iteration\n",
        "- 2) reducing the learning rate after k iteration where k< n"
      ]
    },
    {
      "cell_type": "code",
      "metadata": {
        "id": "np600e_tZsvB",
        "colab": {
          "base_uri": "https://localhost:8080/"
        },
        "outputId": "7ea14d66-5fce-431f-ba14-e98ab00dd4f5"
      },
      "source": [
        "import tensorflow\n",
        "from numpy.random import seed\n",
        "from keras import Input\n",
        "from keras.applications import ResNet50\n",
        "from keras.models import Model, load_model\n",
        "from keras.optimizers import RMSprop\n",
        "from keras.layers import Dense, Flatten, Dropout, ConvLSTM2D, BatchNormalization, Activation, Reshape\n",
        "from keras.layers.wrappers import TimeDistributed\n",
        "from keras.layers.convolutional import (MaxPooling2D)\n",
        "from keras.callbacks import EarlyStopping, ReduceLROnPlateau, Callback\n",
        "from keras import backend as K    #added\n",
        "K.clear_session()                 #added\n",
        "\n",
        "tensorflow.random.set_seed(2)\n",
        "seed(1)\n",
        "\n",
        "initial_weights = 'glorot_uniform'       #'Xavier'\n",
        "\n",
        "input_layer = Input(shape=(20, 244, 244, 3))\n",
        "cnn = ResNet50(weights= 'imagenet' , include_top=False, input_shape =(244, 244, 3))                   #VGG19 (without input shape)\n",
        "for layer in cnn.layers:      #retrain\n",
        "    layer.trainable = True                  #False if static\n",
        "\n",
        "dropout = 0.0           #0.5\n",
        "cnn = TimeDistributed(cnn)(input_layer)\n",
        "\n",
        "# cnn = Reshape((20,4, 4, 128), input_shape=(20,1, 1, 2048))(cnn)                               #the resnet output shape is 1,1,20148 and need to be reshape for the ConvLSTM filters\n",
        "lstm = ConvLSTM2D(filters=256, kernel_size=(3, 3), padding='same', return_sequences=False)(cnn)     #long short time memory 2 dimension\n",
        "lstm = MaxPooling2D(pool_size=(2, 2))(lstm)\n",
        "flat = Flatten()(lstm)\n",
        "\n",
        "flat = BatchNormalization()(flat)\n",
        "#flat = Dropout(dropout)(flat)      #don't use dropout\n",
        "linear = Dense(1000)(flat)\n",
        "\n",
        "relu = Activation('relu')(linear)\n",
        "linear = Dense(256)(relu)\n",
        "#linear = Dropout(dropout)(linear)\n",
        "relu = Activation('relu')(linear)\n",
        "linear = Dense(10)(relu)\n",
        "#linear = Dropout(dropout)(linear)\n",
        "relu = Activation('relu')(linear)\n",
        "predictions = Dense(1 , activation='sigmoid')(relu)     # classes = 1           #'softmax' if classes > 1\n",
        "\n",
        "model = Model(inputs=input_layer, outputs=predictions)\n",
        "\n",
        "model.compile(optimizer= RMSprop(learning_rate = 0.0001), loss= 'binary_crossentropy', metrics=['accuracy'])       #Adam, 1e-4, 1e-3     #'categorical_crossentropy' if classes >1\n",
        "model.summary()\n",
        "\n",
        "batch_epoch_ratio = 0.5         #1\n",
        "\n",
        "hist = model.fit(train_gen, validation_data = validate_gen,\n",
        "    steps_per_epoch= int(float(len_train) / float(batch_size * batch_epoch_ratio)),\n",
        "    epochs = 50,                   \n",
        "    validation_steps = int(float(len_valid) / float(batch_size)),\n",
        "    callbacks=[EarlyStopping(monitor='val_loss', min_delta=0.001, patience=15, ),\n",
        "                ReduceLROnPlateau(monitor='val_loss', factor=0.5, patience=5 , min_lr=1e-8, verbose=1)]\n",
        "                #TestCallback((test_x, test_y))\n",
        ")"
      ],
      "execution_count": null,
      "outputs": [
        {
          "output_type": "stream",
          "text": [
            "Downloading data from https://storage.googleapis.com/tensorflow/keras-applications/resnet/resnet50_weights_tf_dim_ordering_tf_kernels_notop.h5\n",
            "94773248/94765736 [==============================] - 1s 0us/step\n",
            "Model: \"model\"\n",
            "_________________________________________________________________\n",
            "Layer (type)                 Output Shape              Param #   \n",
            "=================================================================\n",
            "input_1 (InputLayer)         [(None, 20, 244, 244, 3)] 0         \n",
            "_________________________________________________________________\n",
            "time_distributed (TimeDistri (None, 20, 8, 8, 2048)    23587712  \n",
            "_________________________________________________________________\n",
            "conv_lst_m2d (ConvLSTM2D)    (None, 8, 8, 256)         21234688  \n",
            "_________________________________________________________________\n",
            "max_pooling2d (MaxPooling2D) (None, 4, 4, 256)         0         \n",
            "_________________________________________________________________\n",
            "flatten (Flatten)            (None, 4096)              0         \n",
            "_________________________________________________________________\n",
            "batch_normalization (BatchNo (None, 4096)              16384     \n",
            "_________________________________________________________________\n",
            "dense (Dense)                (None, 1000)              4097000   \n",
            "_________________________________________________________________\n",
            "activation (Activation)      (None, 1000)              0         \n",
            "_________________________________________________________________\n",
            "dense_1 (Dense)              (None, 256)               256256    \n",
            "_________________________________________________________________\n",
            "activation_1 (Activation)    (None, 256)               0         \n",
            "_________________________________________________________________\n",
            "dense_2 (Dense)              (None, 10)                2570      \n",
            "_________________________________________________________________\n",
            "activation_2 (Activation)    (None, 10)                0         \n",
            "_________________________________________________________________\n",
            "dense_3 (Dense)              (None, 1)                 11        \n",
            "=================================================================\n",
            "Total params: 49,194,621\n",
            "Trainable params: 49,133,309\n",
            "Non-trainable params: 61,312\n",
            "_________________________________________________________________\n",
            "Epoch 1/50\n",
            "156/156 [==============================] - 2714s 17s/step - loss: 0.6937 - accuracy: 0.6318 - val_loss: 0.7637 - val_accuracy: 0.6000\n",
            "Epoch 2/50\n",
            "156/156 [==============================] - 1258s 8s/step - loss: 0.6958 - accuracy: 0.6584 - val_loss: 0.7243 - val_accuracy: 0.4500\n",
            "Epoch 3/50\n",
            "156/156 [==============================] - 900s 6s/step - loss: 0.6574 - accuracy: 0.6535 - val_loss: 1.1717 - val_accuracy: 0.6500\n",
            "Epoch 4/50\n",
            "156/156 [==============================] - 723s 5s/step - loss: 0.5145 - accuracy: 0.7393 - val_loss: 0.8339 - val_accuracy: 0.6250\n",
            "Epoch 5/50\n",
            "156/156 [==============================] - 633s 4s/step - loss: 0.5691 - accuracy: 0.7212 - val_loss: 0.5037 - val_accuracy: 0.8750\n",
            "Epoch 6/50\n",
            "156/156 [==============================] - 651s 4s/step - loss: 0.5974 - accuracy: 0.7258 - val_loss: 1.1550 - val_accuracy: 0.5500\n",
            "Epoch 7/50\n",
            "156/156 [==============================] - 579s 4s/step - loss: 0.6056 - accuracy: 0.6684 - val_loss: 0.5192 - val_accuracy: 0.7250\n",
            "Epoch 8/50\n",
            "156/156 [==============================] - 495s 3s/step - loss: 0.5816 - accuracy: 0.7036 - val_loss: 0.7320 - val_accuracy: 0.8500\n",
            "Epoch 9/50\n",
            "156/156 [==============================] - 505s 3s/step - loss: 0.6301 - accuracy: 0.7353 - val_loss: 2.2310 - val_accuracy: 0.6000\n",
            "Epoch 10/50\n",
            "156/156 [==============================] - 417s 3s/step - loss: 0.5359 - accuracy: 0.7407 - val_loss: 2.3402 - val_accuracy: 0.5250\n",
            "\n",
            "Epoch 00010: ReduceLROnPlateau reducing learning rate to 4.999999873689376e-05.\n",
            "Epoch 11/50\n",
            "156/156 [==============================] - 414s 3s/step - loss: 0.5642 - accuracy: 0.7062 - val_loss: 1.3273 - val_accuracy: 0.8000\n",
            "Epoch 12/50\n",
            "156/156 [==============================] - 320s 2s/step - loss: 0.5031 - accuracy: 0.7459 - val_loss: 1.1292 - val_accuracy: 0.7750\n",
            "Epoch 13/50\n",
            "156/156 [==============================] - 241s 2s/step - loss: 0.3973 - accuracy: 0.7889 - val_loss: 3.3148 - val_accuracy: 0.7250\n",
            "Epoch 14/50\n",
            "156/156 [==============================] - 296s 2s/step - loss: 0.4209 - accuracy: 0.7935 - val_loss: 1.2015 - val_accuracy: 0.7000\n",
            "Epoch 15/50\n",
            "156/156 [==============================] - 244s 2s/step - loss: 0.3832 - accuracy: 0.8101 - val_loss: 0.7933 - val_accuracy: 0.8000\n",
            "\n",
            "Epoch 00015: ReduceLROnPlateau reducing learning rate to 2.499999936844688e-05.\n",
            "Epoch 16/50\n",
            "156/156 [==============================] - 234s 2s/step - loss: 0.3481 - accuracy: 0.8685 - val_loss: 2.6855 - val_accuracy: 0.7500\n",
            "Epoch 17/50\n",
            "156/156 [==============================] - 242s 2s/step - loss: 0.4089 - accuracy: 0.8117 - val_loss: 2.9836 - val_accuracy: 0.6500\n",
            "Epoch 18/50\n",
            "156/156 [==============================] - 254s 2s/step - loss: 0.3376 - accuracy: 0.8347 - val_loss: 3.4758 - val_accuracy: 0.7000\n",
            "Epoch 19/50\n",
            "156/156 [==============================] - 231s 1s/step - loss: 0.3325 - accuracy: 0.8572 - val_loss: 2.2288 - val_accuracy: 0.6000\n",
            "Epoch 20/50\n",
            "156/156 [==============================] - 219s 1s/step - loss: 0.3832 - accuracy: 0.8126 - val_loss: 1.5936 - val_accuracy: 0.7500\n",
            "\n",
            "Epoch 00020: ReduceLROnPlateau reducing learning rate to 1.249999968422344e-05.\n"
          ],
          "name": "stdout"
        }
      ]
    },
    {
      "cell_type": "markdown",
      "metadata": {
        "id": "ekrjyNAL5-3v"
      },
      "source": [
        "# **EVALUATION**\n",
        "- The hyper-tunning process as mentioned in section 4.3 allows us to find the best performing parameters of the network based on the \"Hockey\" dataset. \n",
        "the chosen architecture is already presented in the section 4.1. \n",
        "- In Figure 6 we present the hyper-tunning test accuracy for each of the hyper-parameters values.\n",
        "- The best performing **CNN** is the **Resnet50** with **90% accuracy**, the InceptionV3 CNN was not far from the Resnet50 with 89% accuracy but the VGG19 CNN had poor results of only 79% accuracy.\n",
        "- The **starting learning rate** value had a critical effect on the network results where the 0.001 learning rate resolved with only 46% accuracy which is lower then the random classiffcation. \n",
        "as already mentioned by the original paper, the **learning rate** of **0.0001** had far better results in all experiments.\n",
        "- The **augmentation** increases the accuracy by** 4.5%** and smaller length size of the **sequence** improve the accuracy by **2%.** \n",
        "the dropout of 50% did no improve the model performance and results with only 86% accuracy. \n",
        "- As expected the static CNN configuration where the CNN weights are not retrained had very poor results of 59% accuracy.\n"
      ]
    },
    {
      "cell_type": "code",
      "metadata": {
        "id": "l7EdHY6-5X-G",
        "colab": {
          "base_uri": "https://localhost:8080/",
          "height": 613
        },
        "outputId": "af545157-2643-4ad0-a1f2-31a7a87527c9"
      },
      "source": [
        "import matplotlib.pyplot as plt\n",
        "\n",
        "score = model.evaluate(test_x, test_y, batch_size=2)\n",
        "print(model.metrics)\n",
        "print('Loss:', score[0])\n",
        "print('Test accuracy:', score[1])\n",
        "\n",
        "########################### ACCURACY ###################################################\n",
        "plt.plot(hist.history['accuracy'], label='train')\n",
        "plt.plot(hist.history['val_accuracy'], label='val')\n",
        "plt.xlabel('Epoch #')\n",
        "plt.ylabel('Accuracy')\n",
        "plt.legend()\n",
        "plt.show()\n",
        "\n",
        "##################### LOSS ###############################\n",
        "plt.plot(hist.history['loss'], label='train')\n",
        "plt.plot(hist.history['val_loss'], label='val')\n",
        "#plt.title('model loss')\n",
        "plt.xlabel('Epoch #')\n",
        "plt.ylabel('Loss')\n",
        "plt.legend()\n",
        "plt.show()\n"
      ],
      "execution_count": null,
      "outputs": [
        {
          "output_type": "stream",
          "text": [
            "25/25 [==============================] - 9s 283ms/step - loss: 1.2104 - accuracy: 0.7600\n",
            "[<tensorflow.python.keras.metrics.Mean object at 0x7f1e480f2250>, <tensorflow.python.keras.metrics.MeanMetricWrapper object at 0x7f1e176346d0>]\n",
            "Loss: 1.2103592157363892\n",
            "Test accuracy: 0.7599999904632568\n"
          ],
          "name": "stdout"
        },
        {
          "output_type": "display_data",
          "data": {
            "image/png": "[encoded data removed]",
            "text/plain": [
              "<Figure size 432x288 with 1 Axes>"
            ]
          },
          "metadata": {
            "tags": [],
            "needs_background": "light"
          }
        },
        {
          "output_type": "display_data",
          "data": {
            "image/png": "[encoded data removed]",
            "text/plain": [
              "<Figure size 432x288 with 1 Axes>"
            ]
          },
          "metadata": {
            "tags": [],
            "needs_background": "light"
          }
        }
      ]
    },
    {
      "cell_type": "code",
      "metadata": {
        "id": "mhMmPT6FUudS"
      },
      "source": [
        "from sklearn.metrics import confusion_matrix\n",
        "\n",
        "def plot_confusion(y_true, y_pred):\n",
        "  conf_matrix = confusion_matrix(y_true, y_pred)\n",
        "  plt.imshow(conf_matrix)\n",
        "  plt.xticks([0, 1], ['NonViolence', 'Violence'], fontsize=16)\n",
        "  plt.yticks([0, 1], ['NonViolence', 'Violence'], fontsize=16)\n",
        "  plt.ylabel('Truth', fontsize=20)\n",
        "  plt.xlabel('Prediction', fontsize=20)\n",
        "  plt.colorbar()\n",
        "\n",
        "  plt.grid(False)\n",
        "  plt.show()"
      ],
      "execution_count": null,
      "outputs": []
    },
    {
      "cell_type": "code",
      "metadata": {
        "id": "ircs3NMKtbVH",
        "colab": {
          "base_uri": "https://localhost:8080/"
        },
        "outputId": "0e03b71b-39b9-4e34-e4d8-c7dc44754d79"
      },
      "source": [
        "prediction_probabilities = (model.predict(test_x, batch_size=2).ravel()>0.5)+0\n",
        "print(prediction_probabilities)\n",
        "print(test_y)\n",
        "plot_confusion(test_y, prediction_probabilities)"
      ],
      "execution_count": null,
      "outputs": [
        {
          "output_type": "stream",
          "text": [
            "[1 1 1 0 0 1 1 1 1 1 0 0 1 1 0 0 1 1 1 1 0 1 0 0 1 0 0 1 1 0 1 1 1 0 1 1 0\n",
            " 1 0 1 1 0 0 1 0 1 0 0 1 0]\n",
            "[1 1 1 0 0 1 1 0 1 1 1 1 1 1 0 1 1 1 1 1 0 1 0 0 1 0 1 1 1 0 1 1 0 1 1 1 0\n",
            " 1 0 0 1 0 0 1 1 0 0 1 1 1]\n"
          ],
          "name": "stdout"
        },
        {
          "output_type": "display_data",
          "data": {
            "image/png": "[encoded data removed]",
            "text/plain": [
              "<Figure size 432x288 with 2 Axes>"
            ]
          },
          "metadata": {
            "tags": [],
            "needs_background": "light"
          }
        }
      ]
    }
  ]
}