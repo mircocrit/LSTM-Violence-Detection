{
  "nbformat": 4,
  "nbformat_minor": 0,
  "metadata": {
    "kernelspec": {
      "display_name": "Python 3",
      "language": "python",
      "name": "python3"
    },
    "language_info": {
      "codemirror_mode": {
        "name": "ipython",
        "version": 3
      },
      "file_extension": ".py",
      "mimetype": "text/x-python",
      "name": "python",
      "nbconvert_exporter": "python",
      "pygments_lexer": "ipython3",
      "version": "3.8.2"
    },
    "colab": {
      "name": "Violence_detection.ipynb",
      "provenance": []
    }
  },
  "cells": [
    {
      "cell_type": "code",
      "metadata": {
        "id": "_sljCQrCQPZs"
      },
      "source": [
        "from __future__ import absolute_import\n",
        "from __future__  import division\n",
        "from __future__ import print_function\n",
        "import tensorflow as tf\n",
        "import numpy as np\n",
        "from skimage.io import imread\n",
        "from skimage.transform import resize\n",
        "import cv2\n",
        "import numpy as np\n",
        "import os\n",
        "from PIL import Image\n",
        "from io import BytesIO\n",
        "import time"
      ],
      "execution_count": 43,
      "outputs": []
    },
    {
      "cell_type": "code",
      "metadata": {
        "id": "D3fKrcO7QPZu"
      },
      "source": [
        "from tensorflow.keras.models import Sequential, Model, load_model\n",
        "from tensorflow.keras.layers import  Dropout, Dense, Flatten, Input\n",
        "from tensorflow.keras.optimizers import Adam\n",
        "from tensorflow.keras.metrics import categorical_crossentropy\n",
        "from tensorflow.keras.preprocessing.image import ImageDataGenerator"
      ],
      "execution_count": 44,
      "outputs": []
    },
    {
      "cell_type": "code",
      "metadata": {
        "colab": {
          "base_uri": "https://localhost:8080/"
        },
        "id": "CkZyI3VgQPZu",
        "outputId": "44cd2b19-5bf7-4cec-dd96-e2a6d3d45bc8"
      },
      "source": [
        "from tensorflow.python.client import device_lib\n",
        "print(device_lib.list_local_devices())"
      ],
      "execution_count": 45,
      "outputs": [
        {
          "output_type": "stream",
          "text": [
            "[name: \"/device:CPU:0\"\n",
            "device_type: \"CPU\"\n",
            "memory_limit: 268435456\n",
            "locality {\n",
            "}\n",
            "incarnation: 3722516959530354183\n",
            "]\n"
          ],
          "name": "stdout"
        }
      ]
    },
    {
      "cell_type": "code",
      "metadata": {
        "id": "eZYY2GHIQPZu"
      },
      "source": [
        ""
      ],
      "execution_count": 45,
      "outputs": []
    },
    {
      "cell_type": "code",
      "metadata": {
        "id": "WStApZQwQPZu"
      },
      "source": [
        "def souhaiel_model(tf,wgts='fightw.hdfs'):\n",
        "    layers = tf.keras.layers\n",
        "    models = tf.keras.models\n",
        "    losses = tf.keras.losses\n",
        "    optimizers = tf.keras.optimizers\n",
        "    metrics = tf.keras.metrics\n",
        "    num_classes = 2\n",
        "    cnn = models.Sequential()\n",
        "    #cnn.add(base_model)\n",
        "    input_shapes=(160,160,3)\n",
        "    np.random.seed(1234)\n",
        "    vg19 = tf.keras.applications.vgg19.VGG19\n",
        "    base_model = vg19(include_top=False,weights='imagenet',input_shape=(160, 160,3))\n",
        "    # Freeze the layers except the last 4 layers (we will only use the base model to extract features)\n",
        "    cnn = models.Sequential()\n",
        "    cnn.add(base_model)\n",
        "    cnn.add(layers.Flatten())\n",
        "    model = models.Sequential()\n",
        "    model.add(layers.TimeDistributed(cnn,  input_shape=(30, 160, 160, 3)))\n",
        "    model.add(layers.LSTM(30 , return_sequences= True))\n",
        "    model.add(layers.TimeDistributed(layers.Dense(90)))\n",
        "    model.add(layers.Dropout(0.1))\n",
        "    model.add(layers.GlobalAveragePooling1D())\n",
        "    model.add(layers.Dense(512, activation='relu'))\n",
        "    model.add(layers.Dropout(0.3))\n",
        "    model.add(layers.Dense(num_classes, activation=\"sigmoid\"))\n",
        "    adam = optimizers.Adam(lr=0.0005, beta_1=0.9, beta_2=0.999, epsilon=1e-08)\n",
        "    model.load_weights(wgts)\n",
        "    rms = optimizers.RMSprop()\n",
        "    model.compile(loss='binary_crossentropy', optimizer=adam, metrics=[\"accuracy\"])\n",
        "    return model\n"
      ],
      "execution_count": 46,
      "outputs": []
    },
    {
      "cell_type": "code",
      "metadata": {
        "colab": {
          "base_uri": "https://localhost:8080/"
        },
        "id": "Pqea-h-dQPZv",
        "outputId": "781af0bc-4891-4b69-ee98-660e317b5f6b"
      },
      "source": [
        "model1 = souhaiel_model(tf)\n",
        "print(model1.summary())"
      ],
      "execution_count": 47,
      "outputs": [
        {
          "output_type": "stream",
          "text": [
            "Model: \"sequential_23\"\n",
            "_________________________________________________________________\n",
            "Layer (type)                 Output Shape              Param #   \n",
            "=================================================================\n",
            "time_distributed_14 (TimeDis (None, 30, 12800)         20024384  \n",
            "_________________________________________________________________\n",
            "lstm_7 (LSTM)                (None, 30, 30)            1539720   \n",
            "_________________________________________________________________\n",
            "time_distributed_15 (TimeDis (None, 30, 90)            2790      \n",
            "_________________________________________________________________\n",
            "dropout_14 (Dropout)         (None, 30, 90)            0         \n",
            "_________________________________________________________________\n",
            "global_average_pooling1d_7 ( (None, 90)                0         \n",
            "_________________________________________________________________\n",
            "dense_22 (Dense)             (None, 512)               46592     \n",
            "_________________________________________________________________\n",
            "dropout_15 (Dropout)         (None, 512)               0         \n",
            "_________________________________________________________________\n",
            "dense_23 (Dense)             (None, 2)                 1026      \n",
            "=================================================================\n",
            "Total params: 21,614,512\n",
            "Trainable params: 21,614,512\n",
            "Non-trainable params: 0\n",
            "_________________________________________________________________\n",
            "None\n"
          ],
          "name": "stdout"
        },
        {
          "output_type": "stream",
          "text": [
            "/usr/local/lib/python3.7/dist-packages/tensorflow/python/keras/optimizer_v2/optimizer_v2.py:375: UserWarning: The `lr` argument is deprecated, use `learning_rate` instead.\n",
            "  \"The `lr` argument is deprecated, use `learning_rate` instead.\")\n"
          ],
          "name": "stderr"
        }
      ]
    },
    {
      "cell_type": "code",
      "metadata": {
        "colab": {
          "base_uri": "https://localhost:8080/",
          "height": 910
        },
        "id": "HvoE9kkHQPZv",
        "outputId": "af63e148-ed8c-4f41-c9a9-6e372bd7f986"
      },
      "source": [
        "from tensorflow.keras.utils import plot_model\n",
        "model1= souhaiel_model(tf)\n",
        "plot_model(model1, to_file='souhaiel.png')"
      ],
      "execution_count": 48,
      "outputs": [
        {
          "output_type": "stream",
          "text": [
            "/usr/local/lib/python3.7/dist-packages/tensorflow/python/keras/optimizer_v2/optimizer_v2.py:375: UserWarning: The `lr` argument is deprecated, use `learning_rate` instead.\n",
            "  \"The `lr` argument is deprecated, use `learning_rate` instead.\")\n"
          ],
          "name": "stderr"
        },
        {
          "output_type": "execute_result",
          "data": {
            "image/png": "[encoded data removed]",
            "text/plain": [
              "<IPython.core.display.Image object>"
            ]
          },
          "metadata": {
            "tags": []
          },
          "execution_count": 48
        }
      ]
    },
    {
      "cell_type": "code",
      "metadata": {
        "colab": {
          "base_uri": "https://localhost:8080/"
        },
        "id": "bgd9TejZQPZw",
        "outputId": "b95d5fa4-9d32-4951-f22c-062cafaebefa"
      },
      "source": [
        "import numpy as np\n",
        "from skimage.transform import resize\n",
        "np.random.seed(1234)\n",
        "model1 = souhaiel_model(tf)\n"
      ],
      "execution_count": 49,
      "outputs": [
        {
          "output_type": "stream",
          "text": [
            "/usr/local/lib/python3.7/dist-packages/tensorflow/python/keras/optimizer_v2/optimizer_v2.py:375: UserWarning: The `lr` argument is deprecated, use `learning_rate` instead.\n",
            "  \"The `lr` argument is deprecated, use `learning_rate` instead.\")\n"
          ],
          "name": "stderr"
        }
      ]
    },
    {
      "cell_type": "code",
      "metadata": {
        "jupyter": {
          "outputs_hidden": true
        },
        "id": "M6h-IPpGQPZw"
      },
      "source": [
        ""
      ],
      "execution_count": 49,
      "outputs": []
    },
    {
      "cell_type": "code",
      "metadata": {
        "id": "w2YvE0N1QPZx"
      },
      "source": [
        "graph = tf.compat.v1.get_default_graph"
      ],
      "execution_count": 50,
      "outputs": []
    },
    {
      "cell_type": "code",
      "metadata": {
        "colab": {
          "base_uri": "https://localhost:8080/"
        },
        "id": "GAVB7l7gQPZx",
        "outputId": "70113c8f-afef-4ae1-da8a-d0a2538f7861"
      },
      "source": [
        "graph"
      ],
      "execution_count": 51,
      "outputs": [
        {
          "output_type": "execute_result",
          "data": {
            "text/plain": [
              "<function tensorflow.python.framework.ops.get_default_graph>"
            ]
          },
          "metadata": {
            "tags": []
          },
          "execution_count": 51
        }
      ]
    },
    {
      "cell_type": "code",
      "metadata": {
        "id": "ZquG73x4QPZx"
      },
      "source": [
        "def video_reader(cv2,filename):\n",
        "    frames = np.zeros((30, 160, 160, 3), dtype=np.float)\n",
        "    i=0\n",
        "    print(frames.shape)\n",
        "    vc = cv2.VideoCapture(filename)\n",
        "    if vc.isOpened():\n",
        "        rval , frame = vc.read()\n",
        "    else:\n",
        "        rval = False\n",
        "    frm = resize(frame,(160,160,3))\n",
        "    frm = np.expand_dims(frm,axis=0)\n",
        "    if(np.max(frm)>1):\n",
        "        frm = frm/255.0\n",
        "    frames[i][:] = frm\n",
        "    i +=1\n",
        "    print(\"reading video\")\n",
        "    while i < 30:\n",
        "        rval, frame = vc.read()\n",
        "        frm = resize(frame,(160,160,3))\n",
        "        frm = np.expand_dims(frm,axis=0)\n",
        "        if(np.max(frm)>1):\n",
        "            frm = frm/255.0\n",
        "        frames[i][:] = frm\n",
        "        i +=1\n",
        "    return frames"
      ],
      "execution_count": 52,
      "outputs": []
    },
    {
      "cell_type": "code",
      "metadata": {
        "jupyter": {
          "outputs_hidden": true
        },
        "colab": {
          "base_uri": "https://localhost:8080/"
        },
        "id": "GQ_UTMRGQPZx",
        "outputId": "10c1b825-ca46-486a-8182-4fbf467160f1"
      },
      "source": [
        "video_reader(cv2,'Blindinglights.mp4')"
      ],
      "execution_count": 53,
      "outputs": [
        {
          "output_type": "stream",
          "text": [
            "(30, 160, 160, 3)\n",
            "reading video\n"
          ],
          "name": "stdout"
        },
        {
          "output_type": "execute_result",
          "data": {
            "text/plain": [
              "array([[[[0., 0., 0.],\n",
              "         [0., 0., 0.],\n",
              "         [0., 0., 0.],\n",
              "         ...,\n",
              "         [0., 0., 0.],\n",
              "         [0., 0., 0.],\n",
              "         [0., 0., 0.]],\n",
              "\n",
              "        [[0., 0., 0.],\n",
              "         [0., 0., 0.],\n",
              "         [0., 0., 0.],\n",
              "         ...,\n",
              "         [0., 0., 0.],\n",
              "         [0., 0., 0.],\n",
              "         [0., 0., 0.]],\n",
              "\n",
              "        [[0., 0., 0.],\n",
              "         [0., 0., 0.],\n",
              "         [0., 0., 0.],\n",
              "         ...,\n",
              "         [0., 0., 0.],\n",
              "         [0., 0., 0.],\n",
              "         [0., 0., 0.]],\n",
              "\n",
              "        ...,\n",
              "\n",
              "        [[0., 0., 0.],\n",
              "         [0., 0., 0.],\n",
              "         [0., 0., 0.],\n",
              "         ...,\n",
              "         [0., 0., 0.],\n",
              "         [0., 0., 0.],\n",
              "         [0., 0., 0.]],\n",
              "\n",
              "        [[0., 0., 0.],\n",
              "         [0., 0., 0.],\n",
              "         [0., 0., 0.],\n",
              "         ...,\n",
              "         [0., 0., 0.],\n",
              "         [0., 0., 0.],\n",
              "         [0., 0., 0.]],\n",
              "\n",
              "        [[0., 0., 0.],\n",
              "         [0., 0., 0.],\n",
              "         [0., 0., 0.],\n",
              "         ...,\n",
              "         [0., 0., 0.],\n",
              "         [0., 0., 0.],\n",
              "         [0., 0., 0.]]],\n",
              "\n",
              "\n",
              "       [[[0., 0., 0.],\n",
              "         [0., 0., 0.],\n",
              "         [0., 0., 0.],\n",
              "         ...,\n",
              "         [0., 0., 0.],\n",
              "         [0., 0., 0.],\n",
              "         [0., 0., 0.]],\n",
              "\n",
              "        [[0., 0., 0.],\n",
              "         [0., 0., 0.],\n",
              "         [0., 0., 0.],\n",
              "         ...,\n",
              "         [0., 0., 0.],\n",
              "         [0., 0., 0.],\n",
              "         [0., 0., 0.]],\n",
              "\n",
              "        [[0., 0., 0.],\n",
              "         [0., 0., 0.],\n",
              "         [0., 0., 0.],\n",
              "         ...,\n",
              "         [0., 0., 0.],\n",
              "         [0., 0., 0.],\n",
              "         [0., 0., 0.]],\n",
              "\n",
              "        ...,\n",
              "\n",
              "        [[0., 0., 0.],\n",
              "         [0., 0., 0.],\n",
              "         [0., 0., 0.],\n",
              "         ...,\n",
              "         [0., 0., 0.],\n",
              "         [0., 0., 0.],\n",
              "         [0., 0., 0.]],\n",
              "\n",
              "        [[0., 0., 0.],\n",
              "         [0., 0., 0.],\n",
              "         [0., 0., 0.],\n",
              "         ...,\n",
              "         [0., 0., 0.],\n",
              "         [0., 0., 0.],\n",
              "         [0., 0., 0.]],\n",
              "\n",
              "        [[0., 0., 0.],\n",
              "         [0., 0., 0.],\n",
              "         [0., 0., 0.],\n",
              "         ...,\n",
              "         [0., 0., 0.],\n",
              "         [0., 0., 0.],\n",
              "         [0., 0., 0.]]],\n",
              "\n",
              "\n",
              "       [[[0., 0., 0.],\n",
              "         [0., 0., 0.],\n",
              "         [0., 0., 0.],\n",
              "         ...,\n",
              "         [0., 0., 0.],\n",
              "         [0., 0., 0.],\n",
              "         [0., 0., 0.]],\n",
              "\n",
              "        [[0., 0., 0.],\n",
              "         [0., 0., 0.],\n",
              "         [0., 0., 0.],\n",
              "         ...,\n",
              "         [0., 0., 0.],\n",
              "         [0., 0., 0.],\n",
              "         [0., 0., 0.]],\n",
              "\n",
              "        [[0., 0., 0.],\n",
              "         [0., 0., 0.],\n",
              "         [0., 0., 0.],\n",
              "         ...,\n",
              "         [0., 0., 0.],\n",
              "         [0., 0., 0.],\n",
              "         [0., 0., 0.]],\n",
              "\n",
              "        ...,\n",
              "\n",
              "        [[0., 0., 0.],\n",
              "         [0., 0., 0.],\n",
              "         [0., 0., 0.],\n",
              "         ...,\n",
              "         [0., 0., 0.],\n",
              "         [0., 0., 0.],\n",
              "         [0., 0., 0.]],\n",
              "\n",
              "        [[0., 0., 0.],\n",
              "         [0., 0., 0.],\n",
              "         [0., 0., 0.],\n",
              "         ...,\n",
              "         [0., 0., 0.],\n",
              "         [0., 0., 0.],\n",
              "         [0., 0., 0.]],\n",
              "\n",
              "        [[0., 0., 0.],\n",
              "         [0., 0., 0.],\n",
              "         [0., 0., 0.],\n",
              "         ...,\n",
              "         [0., 0., 0.],\n",
              "         [0., 0., 0.],\n",
              "         [0., 0., 0.]]],\n",
              "\n",
              "\n",
              "       ...,\n",
              "\n",
              "\n",
              "       [[[0., 0., 0.],\n",
              "         [0., 0., 0.],\n",
              "         [0., 0., 0.],\n",
              "         ...,\n",
              "         [0., 0., 0.],\n",
              "         [0., 0., 0.],\n",
              "         [0., 0., 0.]],\n",
              "\n",
              "        [[0., 0., 0.],\n",
              "         [0., 0., 0.],\n",
              "         [0., 0., 0.],\n",
              "         ...,\n",
              "         [0., 0., 0.],\n",
              "         [0., 0., 0.],\n",
              "         [0., 0., 0.]],\n",
              "\n",
              "        [[0., 0., 0.],\n",
              "         [0., 0., 0.],\n",
              "         [0., 0., 0.],\n",
              "         ...,\n",
              "         [0., 0., 0.],\n",
              "         [0., 0., 0.],\n",
              "         [0., 0., 0.]],\n",
              "\n",
              "        ...,\n",
              "\n",
              "        [[0., 0., 0.],\n",
              "         [0., 0., 0.],\n",
              "         [0., 0., 0.],\n",
              "         ...,\n",
              "         [0., 0., 0.],\n",
              "         [0., 0., 0.],\n",
              "         [0., 0., 0.]],\n",
              "\n",
              "        [[0., 0., 0.],\n",
              "         [0., 0., 0.],\n",
              "         [0., 0., 0.],\n",
              "         ...,\n",
              "         [0., 0., 0.],\n",
              "         [0., 0., 0.],\n",
              "         [0., 0., 0.]],\n",
              "\n",
              "        [[0., 0., 0.],\n",
              "         [0., 0., 0.],\n",
              "         [0., 0., 0.],\n",
              "         ...,\n",
              "         [0., 0., 0.],\n",
              "         [0., 0., 0.],\n",
              "         [0., 0., 0.]]],\n",
              "\n",
              "\n",
              "       [[[0., 0., 0.],\n",
              "         [0., 0., 0.],\n",
              "         [0., 0., 0.],\n",
              "         ...,\n",
              "         [0., 0., 0.],\n",
              "         [0., 0., 0.],\n",
              "         [0., 0., 0.]],\n",
              "\n",
              "        [[0., 0., 0.],\n",
              "         [0., 0., 0.],\n",
              "         [0., 0., 0.],\n",
              "         ...,\n",
              "         [0., 0., 0.],\n",
              "         [0., 0., 0.],\n",
              "         [0., 0., 0.]],\n",
              "\n",
              "        [[0., 0., 0.],\n",
              "         [0., 0., 0.],\n",
              "         [0., 0., 0.],\n",
              "         ...,\n",
              "         [0., 0., 0.],\n",
              "         [0., 0., 0.],\n",
              "         [0., 0., 0.]],\n",
              "\n",
              "        ...,\n",
              "\n",
              "        [[0., 0., 0.],\n",
              "         [0., 0., 0.],\n",
              "         [0., 0., 0.],\n",
              "         ...,\n",
              "         [0., 0., 0.],\n",
              "         [0., 0., 0.],\n",
              "         [0., 0., 0.]],\n",
              "\n",
              "        [[0., 0., 0.],\n",
              "         [0., 0., 0.],\n",
              "         [0., 0., 0.],\n",
              "         ...,\n",
              "         [0., 0., 0.],\n",
              "         [0., 0., 0.],\n",
              "         [0., 0., 0.]],\n",
              "\n",
              "        [[0., 0., 0.],\n",
              "         [0., 0., 0.],\n",
              "         [0., 0., 0.],\n",
              "         ...,\n",
              "         [0., 0., 0.],\n",
              "         [0., 0., 0.],\n",
              "         [0., 0., 0.]]],\n",
              "\n",
              "\n",
              "       [[[0., 0., 0.],\n",
              "         [0., 0., 0.],\n",
              "         [0., 0., 0.],\n",
              "         ...,\n",
              "         [0., 0., 0.],\n",
              "         [0., 0., 0.],\n",
              "         [0., 0., 0.]],\n",
              "\n",
              "        [[0., 0., 0.],\n",
              "         [0., 0., 0.],\n",
              "         [0., 0., 0.],\n",
              "         ...,\n",
              "         [0., 0., 0.],\n",
              "         [0., 0., 0.],\n",
              "         [0., 0., 0.]],\n",
              "\n",
              "        [[0., 0., 0.],\n",
              "         [0., 0., 0.],\n",
              "         [0., 0., 0.],\n",
              "         ...,\n",
              "         [0., 0., 0.],\n",
              "         [0., 0., 0.],\n",
              "         [0., 0., 0.]],\n",
              "\n",
              "        ...,\n",
              "\n",
              "        [[0., 0., 0.],\n",
              "         [0., 0., 0.],\n",
              "         [0., 0., 0.],\n",
              "         ...,\n",
              "         [0., 0., 0.],\n",
              "         [0., 0., 0.],\n",
              "         [0., 0., 0.]],\n",
              "\n",
              "        [[0., 0., 0.],\n",
              "         [0., 0., 0.],\n",
              "         [0., 0., 0.],\n",
              "         ...,\n",
              "         [0., 0., 0.],\n",
              "         [0., 0., 0.],\n",
              "         [0., 0., 0.]],\n",
              "\n",
              "        [[0., 0., 0.],\n",
              "         [0., 0., 0.],\n",
              "         [0., 0., 0.],\n",
              "         ...,\n",
              "         [0., 0., 0.],\n",
              "         [0., 0., 0.],\n",
              "         [0., 0., 0.]]]])"
            ]
          },
          "metadata": {
            "tags": []
          },
          "execution_count": 53
        }
      ]
    },
    {
      "cell_type": "code",
      "metadata": {
        "id": "O2-opzfMQPZx"
      },
      "source": [
        "def pred_fight(model,video,acuracy=0.9):\n",
        "    pred_test = model.predict(video)\n",
        "    if pred_test[0][1] >=acuracy:\n",
        "        return True , pred_test[0][1]\n",
        "    else:\n",
        "        return False , pred_test[0][1]"
      ],
      "execution_count": 54,
      "outputs": []
    },
    {
      "cell_type": "code",
      "metadata": {
        "id": "9t5DCTrsQPZy"
      },
      "source": [
        "def main_fight(vidoss):\n",
        "    vid = video_reader(cv2,vidoss)\n",
        "    datav = np.zeros((1, 30, 160, 160, 3), dtype=np.float)\n",
        "    datav[0][:][:] = vid\n",
        "    millis = int(round(time.time() * 1000))\n",
        "    print(millis)\n",
        "    f , precent = pred_fight(model1,datav,acuracy=0.65)\n",
        "    millis2 = int(round(time.time() * 1000))\n",
        "    print(millis2)\n",
        "    res_fight = {'violence':f ,'violenceestimation':str(precent)} \n",
        "    res_fight['processing_time'] =  str(millis2-millis)\n",
        "    return res_fight"
      ],
      "execution_count": 55,
      "outputs": []
    },
    {
      "cell_type": "code",
      "metadata": {
        "colab": {
          "base_uri": "https://localhost:8080/"
        },
        "id": "bWWT-ZT7QPZy",
        "outputId": "57af0cec-ea9e-46ea-dfd8-059269396095"
      },
      "source": [
        "res = main_fight('Blindinglights.mp4')"
      ],
      "execution_count": 56,
      "outputs": [
        {
          "output_type": "stream",
          "text": [
            "(30, 160, 160, 3)\n",
            "reading video\n",
            "1624979995588\n",
            "1624980005786\n"
          ],
          "name": "stdout"
        }
      ]
    },
    {
      "cell_type": "code",
      "metadata": {
        "colab": {
          "base_uri": "https://localhost:8080/"
        },
        "id": "UFZ8UXCwQPZy",
        "outputId": "a31e9db1-9222-4ff6-c410-2804f75622c9"
      },
      "source": [
        "res"
      ],
      "execution_count": 57,
      "outputs": [
        {
          "output_type": "execute_result",
          "data": {
            "text/plain": [
              "{'processing_time': '10198',\n",
              " 'violence': False,\n",
              " 'violenceestimation': '0.13656598'}"
            ]
          },
          "metadata": {
            "tags": []
          },
          "execution_count": 57
        }
      ]
    },
    {
      "cell_type": "code",
      "metadata": {
        "id": "AIC4Z050QPZy"
      },
      "source": [
        "#res = main_fight('fight.mp4')"
      ],
      "execution_count": 58,
      "outputs": []
    },
    {
      "cell_type": "code",
      "metadata": {
        "id": "qSIzS_hCQPZy"
      },
      "source": [
        "#res"
      ],
      "execution_count": 59,
      "outputs": []
    },
    {
      "cell_type": "code",
      "metadata": {
        "id": "-1pbJGvGTHTx"
      },
      "source": [
        "from __future__ import absolute_import\n",
        "from __future__  import division\n",
        "from __future__ import print_function\n",
        "import tensorflow as tf\n",
        "import numpy as np\n",
        "from skimage.io import imread\n",
        "from skimage.transform import resize\n",
        "import cv2\n",
        "import numpy as np\n",
        "import os\n",
        "from flask import Flask , request , jsonify , Response\n",
        "from PIL import Image\n",
        "from io import BytesIO\n",
        "import time\n",
        "from skimage.transform import resize\n",
        "from tensorflow.keras.models import Sequential, Model, load_model\n",
        "from tensorflow.keras.layers import  Dropout, Dense, Flatten, Input\n",
        "from tensorflow.keras.optimizers import Adam\n",
        "from tensorflow.keras.metrics import categorical_crossentropy\n",
        "from tensorflow.keras.preprocessing.image import ImageDataGenerator\n",
        "from tensorflow.keras import backend\n",
        "from werkzeug.utils import secure_filename\n",
        "from werkzeug.datastructures import  FileStorage\n",
        "from collections import deque\n",
        "import numpy as np\n",
        "import argparse\n",
        "import pickle\n",
        "import cv2"
      ],
      "execution_count": 60,
      "outputs": []
    },
    {
      "cell_type": "code",
      "metadata": {
        "id": "jMz6BdTBTeQ_",
        "outputId": "275ff0c6-19be-4d73-dc24-57a050137f8f",
        "colab": {
          "base_uri": "https://localhost:8080/"
        }
      },
      "source": [
        "model1 = souhaiel_model(tf)\n",
        "print(model1.summary())"
      ],
      "execution_count": 61,
      "outputs": [
        {
          "output_type": "stream",
          "text": [
            "Model: \"sequential_32\"\n",
            "_________________________________________________________________\n",
            "Layer (type)                 Output Shape              Param #   \n",
            "=================================================================\n",
            "time_distributed_20 (TimeDis (None, 30, 12800)         20024384  \n",
            "_________________________________________________________________\n",
            "lstm_10 (LSTM)               (None, 30, 30)            1539720   \n",
            "_________________________________________________________________\n",
            "time_distributed_21 (TimeDis (None, 30, 90)            2790      \n",
            "_________________________________________________________________\n",
            "dropout_20 (Dropout)         (None, 30, 90)            0         \n",
            "_________________________________________________________________\n",
            "global_average_pooling1d_10  (None, 90)                0         \n",
            "_________________________________________________________________\n",
            "dense_31 (Dense)             (None, 512)               46592     \n",
            "_________________________________________________________________\n",
            "dropout_21 (Dropout)         (None, 512)               0         \n",
            "_________________________________________________________________\n",
            "dense_32 (Dense)             (None, 2)                 1026      \n",
            "=================================================================\n",
            "Total params: 21,614,512\n",
            "Trainable params: 21,614,512\n",
            "Non-trainable params: 0\n",
            "_________________________________________________________________\n",
            "None\n"
          ],
          "name": "stdout"
        },
        {
          "output_type": "stream",
          "text": [
            "/usr/local/lib/python3.7/dist-packages/tensorflow/python/keras/optimizer_v2/optimizer_v2.py:375: UserWarning: The `lr` argument is deprecated, use `learning_rate` instead.\n",
            "  \"The `lr` argument is deprecated, use `learning_rate` instead.\")\n"
          ],
          "name": "stderr"
        }
      ]
    },
    {
      "cell_type": "code",
      "metadata": {
        "id": "7rMHIXDkTkJn",
        "outputId": "73e088eb-3798-406f-9dae-08652db02e3b",
        "colab": {
          "base_uri": "https://localhost:8080/"
        }
      },
      "source": [
        "args = {\n",
        "  \"input\": \"Blindinglights.mp4\",\n",
        "  \"size\": 128,\n",
        "  \"output\": \"prova.mp4\"\n",
        "}\n",
        "\n",
        "\n",
        "# load the trained model and label binarizer from disk\n",
        "print(\"[INFO] loading model and label binarizer...\")\n",
        "model = model1\n",
        "# initialize the image mean for mean subtraction along with the\n",
        "# predictions queue\n",
        "#mean = np.array([123.68, 116.779, 103.939][::1], dtype=\"float32\")\n",
        "Q = deque(maxlen=args[\"size\"])"
      ],
      "execution_count": 62,
      "outputs": [
        {
          "output_type": "stream",
          "text": [
            "[INFO] loading model and label binarizer...\n"
          ],
          "name": "stdout"
        }
      ]
    },
    {
      "cell_type": "code",
      "metadata": {
        "colab": {
          "base_uri": "https://localhost:8080/"
        },
        "id": "mvz18FXvQPZy",
        "outputId": "e5f2e1d1-262f-4682-c53e-4c1745d4f0e8"
      },
      "source": [
        "\n",
        "\n",
        "# initialize the video stream, pointer to output video file, and\n",
        "# frame dimensions\n",
        "vs = cv2.VideoCapture(args[\"input\"])\n",
        "vc=cv2.VideoCapture('weeknd1.mp4')\n",
        "fps = vs.get(cv2.CAP_PROP_FPS)\n",
        "writer = None\n",
        "(W, H) = (None, None)\n",
        "#client = Client(\"ACea4cecca40ebb1bf4594098d5cef4541\", \"32789639585561088d5937514694e115\") #update from twilio\n",
        "prelabel = ''\n",
        "ok = 'Normal'\n",
        "okk='violence'\n",
        "i=0\n",
        "frames = np.zeros((30, 160, 160, 3), dtype=np.float)\n",
        "datav = np.zeros((1, 30, 160, 160, 3), dtype=np.float)\n",
        "frame_counter=0\n",
        "\n",
        "# loop over frames from the video file stream\n",
        "while True:\n",
        "    # read the next frame from the file\n",
        "    (grabbed, frm) = vc.read()\n",
        "    \n",
        "    # if the frame was not grabbed, then we have reached the end\n",
        "    # of the stream\n",
        "    if not grabbed:\n",
        "        break\n",
        "    # if the frame dimensions are empty, grab them\n",
        "    if W is None or H is None:\n",
        "        (H, W) = frm.shape[:2]\n",
        "    #framecount = framecount+1\n",
        "    # clone the output frame, then convert it from BGR to RGB\n",
        "    # ordering, resize the frame to a fixed 224x224, and then\n",
        "    # perform mean subtraction\n",
        "    output = frm.copy()\n",
        "    while i < 30:\n",
        "        rval, frame = vs.read()\n",
        "        frame_counter +=1\n",
        "        if frame_counter == vs.get(cv2.CAP_PROP_FRAME_COUNT):\n",
        "            frame_counter = 0 #Or whatever as long as it is the same as next line\n",
        "            vs.set(cv2.CAP_PROP_POS_FRAMES, 0)\n",
        "        frame = resize(frame,(160,160,3))\n",
        "        frame = np.expand_dims(frame,axis=0)\n",
        "        if(np.max(frame)>1):\n",
        "            frame = frame/255.0\n",
        "        frames[i][:] = frame\n",
        "        i +=1\n",
        "        \n",
        "    datav[0][:][:] =frames\n",
        "    frames -= mean\n",
        "    \n",
        "\n",
        "\t# make predictions on the frame and then update the predictions\n",
        "\t# queue\n",
        "    #preds = model1.predict(datav)\n",
        "#\tprint('Preds = :', preds)\n",
        "\t\n",
        "#\ttotal = (preds[0]+ preds[1]+preds[2] + preds[3]+ preds[4]+preds[5])\n",
        "#\tmaximum = max(preds)\n",
        "#\trest = total - maximum\n",
        "    \n",
        "#\tdiff = (.8*maximum) - (.1*rest)\n",
        "#\tprint('Difference of prob ', diff)\n",
        "#\tth = 100\n",
        "#\tif diff > .60:\n",
        "#\t\tth = diff\n",
        "#\tprint('Old threshold = ', th)\n",
        "    \n",
        "    \n",
        "    prediction = preds.argmax(axis=0)\n",
        "    Q.append(preds)\n",
        "\n",
        "\t# perform prediction averaging over the current history of\n",
        "\t# previous predictions\n",
        "    results = np.array(Q).mean(axis=0)\n",
        "    print('Results = ', results)\n",
        "    maxprob = np.max(results)\n",
        "    print('Maximun Probability = ', maxprob)\n",
        "    i = np.argmax(results)\n",
        "    rest = 1 - maxprob\n",
        "    \n",
        "    diff = (maxprob) - (rest)\n",
        "    print('Difference of prob ', diff)\n",
        "    th = 100\n",
        "    if diff > .80:\n",
        "        th = diff\n",
        "      \n",
        "        \n",
        "        \n",
        "        \n",
        "    if (preds[0][1]) < th:\n",
        "        text = \"Alert : {} - {:.2f}%\".format((ok), 100 - (maxprob * 100))\n",
        "        cv2.putText(output, text, (35, 50), cv2.FONT_HERSHEY_SIMPLEX, 1.25, (0, 255, 0), 5)\n",
        "    else:\n",
        "\t\t\n",
        "        text = \"Alert : {} - {:.2f}%\".format((okk), maxprob * 100)\n",
        "        cv2.putText(output, text, (35, 50), cv2.FONT_HERSHEY_SIMPLEX, 1.25, (0, 0, 255), 5) \n",
        "#\t\tif label != prelabel:\n",
        "#\t\t\tclient.messages.create(to=\"<+country code>< receiver mobile number>\", #for example +918255555555\n",
        "#                       from_=\"+180840084XX\", #sender number can be coped from twilo\n",
        "#                       body='\\n'+ str(text) +'\\n Satellite: ' + str(camid) + '\\n Orbit: ' + location)\n",
        "    \n",
        "\n",
        "\n",
        "\t# check if the video writer is None\n",
        "    if writer is None:\n",
        "\t    # initialize our video writer\n",
        "        fourcc = cv2.VideoWriter_fourcc(*\"MJPG\")\n",
        "        writer = cv2.VideoWriter(args[\"output\"], fourcc, 27.0,\n",
        "\t\t\t(W, H), True)\n",
        "\n",
        "\t# write the output frame to disk\n",
        "    writer.write(output)\n",
        "\n",
        "\t# show the output image\n",
        "    cv2.imshow(\"Output\", output)\n",
        "    key = cv2.waitKey(1) & 0xFF\n",
        "\n",
        "\t# if the `q` key was pressed, break from the loop\n",
        "    if key == ord(\"q\"):\n",
        "        break\n",
        "#print('Frame count', framecount)\n",
        "# release the file pointers\n",
        "print(\"[INFO] cleaning up...\")\n",
        "#writer.release()\n",
        "vs.release()\n",
        "vc.release()"
      ],
      "execution_count": 63,
      "outputs": [
        {
          "output_type": "stream",
          "text": [
            "[INFO] cleaning up...\n"
          ],
          "name": "stdout"
        }
      ]
    }
  ]
}